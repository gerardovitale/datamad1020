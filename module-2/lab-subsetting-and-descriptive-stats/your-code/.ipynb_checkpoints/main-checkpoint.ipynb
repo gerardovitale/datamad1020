{
 "cells": [
  {
   "cell_type": "markdown",
   "metadata": {},
   "source": [
    "# Before you start :\n",
    "   - These exercises are related to the Subsetting and Descriptive Stats lessons.\n",
    "   - Keep in mind that you need to use some of the functions you learned in the previous lessons.\n",
    "   - All datasets are provided in the `your-code` folder of this lab.\n",
    "   - Elaborate your codes and outputs as much as you can.\n",
    "   - Try your best to answer the questions and complete the tasks and most importantly enjoy the process!!!"
   ]
  },
  {
   "cell_type": "markdown",
   "metadata": {},
   "source": [
    "#### Import all the libraries that are necessary"
   ]
  },
  {
   "cell_type": "code",
   "execution_count": 1,
   "metadata": {},
   "outputs": [],
   "source": [
    "import pandas as pd\n",
    "import numpy as np\n",
    "import matplotlib.pyplot as plt"
   ]
  },
  {
   "cell_type": "markdown",
   "metadata": {},
   "source": [
    "# Challenge 1"
   ]
  },
  {
   "cell_type": "markdown",
   "metadata": {},
   "source": [
    "#### In this challenge we will use the `Temp_States.csv` file. \n",
    "\n",
    "#### First import it into a data frame called `temp`."
   ]
  },
  {
   "cell_type": "code",
   "execution_count": 2,
   "metadata": {},
   "outputs": [],
   "source": [
    "temp = pd.read_csv('Temp_States.csv')"
   ]
  },
  {
   "cell_type": "markdown",
   "metadata": {},
   "source": [
    "#### Print `temp`"
   ]
  },
  {
   "cell_type": "code",
   "execution_count": 3,
   "metadata": {},
   "outputs": [
    {
     "data": {
      "text/html": [
       "<div>\n",
       "<style scoped>\n",
       "    .dataframe tbody tr th:only-of-type {\n",
       "        vertical-align: middle;\n",
       "    }\n",
       "\n",
       "    .dataframe tbody tr th {\n",
       "        vertical-align: top;\n",
       "    }\n",
       "\n",
       "    .dataframe thead th {\n",
       "        text-align: right;\n",
       "    }\n",
       "</style>\n",
       "<table border=\"1\" class=\"dataframe\">\n",
       "  <thead>\n",
       "    <tr style=\"text-align: right;\">\n",
       "      <th></th>\n",
       "      <th>City</th>\n",
       "      <th>State</th>\n",
       "      <th>Temperature</th>\n",
       "    </tr>\n",
       "  </thead>\n",
       "  <tbody>\n",
       "    <tr>\n",
       "      <th>0</th>\n",
       "      <td>NYC</td>\n",
       "      <td>New York</td>\n",
       "      <td>19.444444</td>\n",
       "    </tr>\n",
       "    <tr>\n",
       "      <th>1</th>\n",
       "      <td>Albany</td>\n",
       "      <td>New York</td>\n",
       "      <td>9.444444</td>\n",
       "    </tr>\n",
       "    <tr>\n",
       "      <th>2</th>\n",
       "      <td>Buffalo</td>\n",
       "      <td>New York</td>\n",
       "      <td>3.333333</td>\n",
       "    </tr>\n",
       "    <tr>\n",
       "      <th>3</th>\n",
       "      <td>Hartford</td>\n",
       "      <td>Connecticut</td>\n",
       "      <td>17.222222</td>\n",
       "    </tr>\n",
       "    <tr>\n",
       "      <th>4</th>\n",
       "      <td>Bridgeport</td>\n",
       "      <td>Connecticut</td>\n",
       "      <td>14.444444</td>\n",
       "    </tr>\n",
       "  </tbody>\n",
       "</table>\n",
       "</div>"
      ],
      "text/plain": [
       "         City        State  Temperature\n",
       "0         NYC     New York    19.444444\n",
       "1      Albany     New York     9.444444\n",
       "2     Buffalo     New York     3.333333\n",
       "3    Hartford  Connecticut    17.222222\n",
       "4  Bridgeport  Connecticut    14.444444"
      ]
     },
     "execution_count": 3,
     "metadata": {},
     "output_type": "execute_result"
    }
   ],
   "source": [
    "temp.head()"
   ]
  },
  {
   "cell_type": "markdown",
   "metadata": {},
   "source": [
    "#### Explore the data types of the Temp dataframe. What type of data do we have? Comment your result."
   ]
  },
  {
   "cell_type": "markdown",
   "metadata": {},
   "source": [
    "#### Temp DataFrame have two types of variables. Specifically, the City and State columns are object or string, and the Temperature column is float type."
   ]
  },
  {
   "cell_type": "code",
   "execution_count": 4,
   "metadata": {},
   "outputs": [
    {
     "data": {
      "text/plain": [
       "(dtype('O'), dtype('O'), dtype('float64'))"
      ]
     },
     "execution_count": 4,
     "metadata": {},
     "output_type": "execute_result"
    }
   ],
   "source": [
    "temp['City'].dtype, temp['State'].dtype, temp['Temperature'].dtype"
   ]
  },
  {
   "cell_type": "markdown",
   "metadata": {},
   "source": [
    "#### Select the rows where state is New York"
   ]
  },
  {
   "cell_type": "code",
   "execution_count": 5,
   "metadata": {},
   "outputs": [
    {
     "data": {
      "text/html": [
       "<div>\n",
       "<style scoped>\n",
       "    .dataframe tbody tr th:only-of-type {\n",
       "        vertical-align: middle;\n",
       "    }\n",
       "\n",
       "    .dataframe tbody tr th {\n",
       "        vertical-align: top;\n",
       "    }\n",
       "\n",
       "    .dataframe thead th {\n",
       "        text-align: right;\n",
       "    }\n",
       "</style>\n",
       "<table border=\"1\" class=\"dataframe\">\n",
       "  <thead>\n",
       "    <tr style=\"text-align: right;\">\n",
       "      <th></th>\n",
       "      <th>City</th>\n",
       "      <th>State</th>\n",
       "      <th>Temperature</th>\n",
       "    </tr>\n",
       "  </thead>\n",
       "  <tbody>\n",
       "    <tr>\n",
       "      <th>0</th>\n",
       "      <td>NYC</td>\n",
       "      <td>New York</td>\n",
       "      <td>19.444444</td>\n",
       "    </tr>\n",
       "    <tr>\n",
       "      <th>1</th>\n",
       "      <td>Albany</td>\n",
       "      <td>New York</td>\n",
       "      <td>9.444444</td>\n",
       "    </tr>\n",
       "    <tr>\n",
       "      <th>2</th>\n",
       "      <td>Buffalo</td>\n",
       "      <td>New York</td>\n",
       "      <td>3.333333</td>\n",
       "    </tr>\n",
       "  </tbody>\n",
       "</table>\n",
       "</div>"
      ],
      "text/plain": [
       "      City     State  Temperature\n",
       "0      NYC  New York    19.444444\n",
       "1   Albany  New York     9.444444\n",
       "2  Buffalo  New York     3.333333"
      ]
     },
     "execution_count": 5,
     "metadata": {},
     "output_type": "execute_result"
    }
   ],
   "source": [
    "temp[temp['State'] == 'New York']"
   ]
  },
  {
   "cell_type": "markdown",
   "metadata": {},
   "source": [
    "#### What is the average of the temperature of cities in New York?"
   ]
  },
  {
   "cell_type": "code",
   "execution_count": 6,
   "metadata": {},
   "outputs": [
    {
     "data": {
      "text/plain": [
       "Temperature    10.740741\n",
       "dtype: float64"
      ]
     },
     "execution_count": 6,
     "metadata": {},
     "output_type": "execute_result"
    }
   ],
   "source": [
    "temp[temp['State'] == 'New York'].mean()"
   ]
  },
  {
   "cell_type": "markdown",
   "metadata": {},
   "source": [
    "#### We want to know cities and states with Temperature above 15 degress Celcius"
   ]
  },
  {
   "cell_type": "code",
   "execution_count": 7,
   "metadata": {},
   "outputs": [
    {
     "data": {
      "text/html": [
       "<div>\n",
       "<style scoped>\n",
       "    .dataframe tbody tr th:only-of-type {\n",
       "        vertical-align: middle;\n",
       "    }\n",
       "\n",
       "    .dataframe tbody tr th {\n",
       "        vertical-align: top;\n",
       "    }\n",
       "\n",
       "    .dataframe thead th {\n",
       "        text-align: right;\n",
       "    }\n",
       "</style>\n",
       "<table border=\"1\" class=\"dataframe\">\n",
       "  <thead>\n",
       "    <tr style=\"text-align: right;\">\n",
       "      <th></th>\n",
       "      <th>City</th>\n",
       "      <th>State</th>\n",
       "      <th>Temperature</th>\n",
       "    </tr>\n",
       "  </thead>\n",
       "  <tbody>\n",
       "    <tr>\n",
       "      <th>0</th>\n",
       "      <td>NYC</td>\n",
       "      <td>New York</td>\n",
       "      <td>19.444444</td>\n",
       "    </tr>\n",
       "    <tr>\n",
       "      <th>3</th>\n",
       "      <td>Hartford</td>\n",
       "      <td>Connecticut</td>\n",
       "      <td>17.222222</td>\n",
       "    </tr>\n",
       "    <tr>\n",
       "      <th>5</th>\n",
       "      <td>Treton</td>\n",
       "      <td>New Jersey</td>\n",
       "      <td>22.222222</td>\n",
       "    </tr>\n",
       "    <tr>\n",
       "      <th>6</th>\n",
       "      <td>Newark</td>\n",
       "      <td>New Jersey</td>\n",
       "      <td>20.000000</td>\n",
       "    </tr>\n",
       "  </tbody>\n",
       "</table>\n",
       "</div>"
      ],
      "text/plain": [
       "       City        State  Temperature\n",
       "0       NYC     New York    19.444444\n",
       "3  Hartford  Connecticut    17.222222\n",
       "5    Treton   New Jersey    22.222222\n",
       "6    Newark   New Jersey    20.000000"
      ]
     },
     "execution_count": 7,
     "metadata": {},
     "output_type": "execute_result"
    }
   ],
   "source": [
    "temp[temp['Temperature'] > 15]"
   ]
  },
  {
   "cell_type": "markdown",
   "metadata": {},
   "source": [
    "#### Now, return only the cities that have a temperature above 15 degress Celcius"
   ]
  },
  {
   "cell_type": "code",
   "execution_count": 8,
   "metadata": {},
   "outputs": [
    {
     "data": {
      "text/plain": [
       "0         NYC\n",
       "3    Hartford\n",
       "5      Treton\n",
       "6      Newark\n",
       "Name: City, dtype: object"
      ]
     },
     "execution_count": 8,
     "metadata": {},
     "output_type": "execute_result"
    }
   ],
   "source": [
    "temp.City[temp['Temperature'] > 15]"
   ]
  },
  {
   "cell_type": "markdown",
   "metadata": {},
   "source": [
    "#### We want to know which cities have a temperature above 15 degrees Celcius and below 20 degrees Celcius\n",
    "\n",
    "*Hint: First write the condition then select the rows.*"
   ]
  },
  {
   "cell_type": "code",
   "execution_count": 9,
   "metadata": {},
   "outputs": [
    {
     "data": {
      "text/html": [
       "<div>\n",
       "<style scoped>\n",
       "    .dataframe tbody tr th:only-of-type {\n",
       "        vertical-align: middle;\n",
       "    }\n",
       "\n",
       "    .dataframe tbody tr th {\n",
       "        vertical-align: top;\n",
       "    }\n",
       "\n",
       "    .dataframe thead th {\n",
       "        text-align: right;\n",
       "    }\n",
       "</style>\n",
       "<table border=\"1\" class=\"dataframe\">\n",
       "  <thead>\n",
       "    <tr style=\"text-align: right;\">\n",
       "      <th></th>\n",
       "      <th>City</th>\n",
       "      <th>State</th>\n",
       "      <th>Temperature</th>\n",
       "    </tr>\n",
       "  </thead>\n",
       "  <tbody>\n",
       "    <tr>\n",
       "      <th>0</th>\n",
       "      <td>NYC</td>\n",
       "      <td>New York</td>\n",
       "      <td>19.444444</td>\n",
       "    </tr>\n",
       "    <tr>\n",
       "      <th>3</th>\n",
       "      <td>Hartford</td>\n",
       "      <td>Connecticut</td>\n",
       "      <td>17.222222</td>\n",
       "    </tr>\n",
       "  </tbody>\n",
       "</table>\n",
       "</div>"
      ],
      "text/plain": [
       "       City        State  Temperature\n",
       "0       NYC     New York    19.444444\n",
       "3  Hartford  Connecticut    17.222222"
      ]
     },
     "execution_count": 9,
     "metadata": {},
     "output_type": "execute_result"
    }
   ],
   "source": [
    "temp[(temp.Temperature > 15) & (temp.Temperature < 20)]"
   ]
  },
  {
   "cell_type": "markdown",
   "metadata": {},
   "source": [
    "#### Find the mean and the standard deviation of the temperature of each state.\n",
    "\n",
    "*Hint: Use functions from Data Manipulation lesson*"
   ]
  },
  {
   "cell_type": "code",
   "execution_count": 10,
   "metadata": {},
   "outputs": [
    {
     "data": {
      "text/plain": [
       "(             Temperature\n",
       " State                   \n",
       " Connecticut    15.833333\n",
       " New Jersey     21.111111\n",
       " New York       10.740741,\n",
       "              Temperature\n",
       " State                   \n",
       " Connecticut     1.964186\n",
       " New Jersey      1.571348\n",
       " New York        8.133404)"
      ]
     },
     "execution_count": 10,
     "metadata": {},
     "output_type": "execute_result"
    }
   ],
   "source": [
    "temp.groupby(by='State').mean(), temp.groupby(by='State').std()"
   ]
  },
  {
   "cell_type": "markdown",
   "metadata": {
    "collapsed": true
   },
   "source": [
    "# Challenge 2"
   ]
  },
  {
   "cell_type": "markdown",
   "metadata": {},
   "source": [
    "#### Load the `employee.csv` file into a DataFrame. Call the dataframe `employee`"
   ]
  },
  {
   "cell_type": "code",
   "execution_count": 11,
   "metadata": {},
   "outputs": [
    {
     "data": {
      "text/html": [
       "<div>\n",
       "<style scoped>\n",
       "    .dataframe tbody tr th:only-of-type {\n",
       "        vertical-align: middle;\n",
       "    }\n",
       "\n",
       "    .dataframe tbody tr th {\n",
       "        vertical-align: top;\n",
       "    }\n",
       "\n",
       "    .dataframe thead th {\n",
       "        text-align: right;\n",
       "    }\n",
       "</style>\n",
       "<table border=\"1\" class=\"dataframe\">\n",
       "  <thead>\n",
       "    <tr style=\"text-align: right;\">\n",
       "      <th></th>\n",
       "      <th>Name</th>\n",
       "      <th>Department</th>\n",
       "      <th>Education</th>\n",
       "      <th>Gender</th>\n",
       "      <th>Title</th>\n",
       "      <th>Years</th>\n",
       "      <th>Salary</th>\n",
       "    </tr>\n",
       "  </thead>\n",
       "  <tbody>\n",
       "    <tr>\n",
       "      <th>0</th>\n",
       "      <td>Jose</td>\n",
       "      <td>IT</td>\n",
       "      <td>Bachelor</td>\n",
       "      <td>M</td>\n",
       "      <td>analyst</td>\n",
       "      <td>1</td>\n",
       "      <td>35</td>\n",
       "    </tr>\n",
       "    <tr>\n",
       "      <th>1</th>\n",
       "      <td>Maria</td>\n",
       "      <td>IT</td>\n",
       "      <td>Master</td>\n",
       "      <td>F</td>\n",
       "      <td>analyst</td>\n",
       "      <td>2</td>\n",
       "      <td>30</td>\n",
       "    </tr>\n",
       "    <tr>\n",
       "      <th>2</th>\n",
       "      <td>David</td>\n",
       "      <td>HR</td>\n",
       "      <td>Master</td>\n",
       "      <td>M</td>\n",
       "      <td>analyst</td>\n",
       "      <td>2</td>\n",
       "      <td>30</td>\n",
       "    </tr>\n",
       "    <tr>\n",
       "      <th>3</th>\n",
       "      <td>Sonia</td>\n",
       "      <td>HR</td>\n",
       "      <td>Bachelor</td>\n",
       "      <td>F</td>\n",
       "      <td>analyst</td>\n",
       "      <td>4</td>\n",
       "      <td>35</td>\n",
       "    </tr>\n",
       "    <tr>\n",
       "      <th>4</th>\n",
       "      <td>Samuel</td>\n",
       "      <td>Sales</td>\n",
       "      <td>Master</td>\n",
       "      <td>M</td>\n",
       "      <td>associate</td>\n",
       "      <td>3</td>\n",
       "      <td>55</td>\n",
       "    </tr>\n",
       "  </tbody>\n",
       "</table>\n",
       "</div>"
      ],
      "text/plain": [
       "     Name Department Education Gender      Title  Years  Salary\n",
       "0    Jose         IT  Bachelor      M    analyst      1      35\n",
       "1   Maria         IT    Master      F    analyst      2      30\n",
       "2   David         HR    Master      M    analyst      2      30\n",
       "3   Sonia         HR  Bachelor      F    analyst      4      35\n",
       "4  Samuel      Sales    Master      M  associate      3      55"
      ]
     },
     "execution_count": 11,
     "metadata": {},
     "output_type": "execute_result"
    }
   ],
   "source": [
    "employees = pd.read_csv('employee.csv')\n",
    "employees.head()"
   ]
  },
  {
   "cell_type": "markdown",
   "metadata": {},
   "source": [
    "#### Explore the data types of the Temp dataframe. Comment your results"
   ]
  },
  {
   "cell_type": "code",
   "execution_count": 12,
   "metadata": {},
   "outputs": [
    {
     "data": {
      "text/plain": [
       "{'Name': dtype('O'),\n",
       " 'Department': dtype('O'),\n",
       " 'Education': dtype('O'),\n",
       " 'Gender': dtype('O'),\n",
       " 'Title': dtype('O'),\n",
       " 'Years': dtype('int64'),\n",
       " 'Salary': dtype('int64')}"
      ]
     },
     "execution_count": 12,
     "metadata": {},
     "output_type": "execute_result"
    }
   ],
   "source": [
    "{col:employees[f'{col}'].dtype for col in employees.columns}"
   ]
  },
  {
   "cell_type": "markdown",
   "metadata": {},
   "source": [
    "#### Show visually the frequency distribution (histogram) of the employee dataset. In few words describe these histograms?"
   ]
  },
  {
   "cell_type": "code",
   "execution_count": 13,
   "metadata": {},
   "outputs": [
    {
     "name": "stderr",
     "output_type": "stream",
     "text": [
      "<ipython-input-13-be2783483e35>:4: UserWarning: To output multiple subplots, the figure containing the passed axes is being cleared\n",
      "  employees.hist(ax=ax1, bins=20)\n"
     ]
    },
    {
     "data": {
      "image/png": "[encoded data removed]",
      "text/plain": [
       "<Figure size 864x432 with 2 Axes>"
      ]
     },
     "metadata": {},
     "output_type": "display_data"
    }
   ],
   "source": [
    "plt.style.use('seaborn')\n",
    "plt.figure(figsize=(12,6))\n",
    "ax1 = plt.subplot()\n",
    "employees.hist(ax=ax1, bins=20)\n",
    "plt.show()"
   ]
  },
  {
   "cell_type": "markdown",
   "metadata": {},
   "source": [
    "#### What's the average salary in this company?"
   ]
  },
  {
   "cell_type": "code",
   "execution_count": 14,
   "metadata": {},
   "outputs": [
    {
     "data": {
      "text/plain": [
       "48.888888888888886"
      ]
     },
     "execution_count": 14,
     "metadata": {},
     "output_type": "execute_result"
    }
   ],
   "source": [
    "employees.Salary.mean()"
   ]
  },
  {
   "cell_type": "markdown",
   "metadata": {},
   "source": [
    "#### What's the highest salary?"
   ]
  },
  {
   "cell_type": "code",
   "execution_count": 15,
   "metadata": {},
   "outputs": [
    {
     "data": {
      "text/plain": [
       "70"
      ]
     },
     "execution_count": 15,
     "metadata": {},
     "output_type": "execute_result"
    }
   ],
   "source": [
    "employees.Salary.max()"
   ]
  },
  {
   "cell_type": "markdown",
   "metadata": {},
   "source": [
    "#### What's the lowest salary?"
   ]
  },
  {
   "cell_type": "code",
   "execution_count": 16,
   "metadata": {},
   "outputs": [
    {
     "data": {
      "text/plain": [
       "30"
      ]
     },
     "execution_count": 16,
     "metadata": {},
     "output_type": "execute_result"
    }
   ],
   "source": [
    "employees.Salary.min()"
   ]
  },
  {
   "cell_type": "markdown",
   "metadata": {},
   "source": [
    "#### Who are the employees with the lowest salary?"
   ]
  },
  {
   "cell_type": "code",
   "execution_count": 17,
   "metadata": {},
   "outputs": [
    {
     "data": {
      "text/html": [
       "<div>\n",
       "<style scoped>\n",
       "    .dataframe tbody tr th:only-of-type {\n",
       "        vertical-align: middle;\n",
       "    }\n",
       "\n",
       "    .dataframe tbody tr th {\n",
       "        vertical-align: top;\n",
       "    }\n",
       "\n",
       "    .dataframe thead th {\n",
       "        text-align: right;\n",
       "    }\n",
       "</style>\n",
       "<table border=\"1\" class=\"dataframe\">\n",
       "  <thead>\n",
       "    <tr style=\"text-align: right;\">\n",
       "      <th></th>\n",
       "      <th>Name</th>\n",
       "      <th>Department</th>\n",
       "      <th>Education</th>\n",
       "      <th>Gender</th>\n",
       "      <th>Title</th>\n",
       "      <th>Years</th>\n",
       "      <th>Salary</th>\n",
       "    </tr>\n",
       "  </thead>\n",
       "  <tbody>\n",
       "    <tr>\n",
       "      <th>1</th>\n",
       "      <td>Maria</td>\n",
       "      <td>IT</td>\n",
       "      <td>Master</td>\n",
       "      <td>F</td>\n",
       "      <td>analyst</td>\n",
       "      <td>2</td>\n",
       "      <td>30</td>\n",
       "    </tr>\n",
       "    <tr>\n",
       "      <th>2</th>\n",
       "      <td>David</td>\n",
       "      <td>HR</td>\n",
       "      <td>Master</td>\n",
       "      <td>M</td>\n",
       "      <td>analyst</td>\n",
       "      <td>2</td>\n",
       "      <td>30</td>\n",
       "    </tr>\n",
       "  </tbody>\n",
       "</table>\n",
       "</div>"
      ],
      "text/plain": [
       "    Name Department Education Gender    Title  Years  Salary\n",
       "1  Maria         IT    Master      F  analyst      2      30\n",
       "2  David         HR    Master      M  analyst      2      30"
      ]
     },
     "execution_count": 17,
     "metadata": {},
     "output_type": "execute_result"
    }
   ],
   "source": [
    "employees[employees['Salary'] == employees.Salary.min()]"
   ]
  },
  {
   "cell_type": "markdown",
   "metadata": {},
   "source": [
    "#### Could you give all the information about an employee called David?"
   ]
  },
  {
   "cell_type": "code",
   "execution_count": 18,
   "metadata": {},
   "outputs": [
    {
     "data": {
      "text/html": [
       "<div>\n",
       "<style scoped>\n",
       "    .dataframe tbody tr th:only-of-type {\n",
       "        vertical-align: middle;\n",
       "    }\n",
       "\n",
       "    .dataframe tbody tr th {\n",
       "        vertical-align: top;\n",
       "    }\n",
       "\n",
       "    .dataframe thead th {\n",
       "        text-align: right;\n",
       "    }\n",
       "</style>\n",
       "<table border=\"1\" class=\"dataframe\">\n",
       "  <thead>\n",
       "    <tr style=\"text-align: right;\">\n",
       "      <th></th>\n",
       "      <th>Name</th>\n",
       "      <th>Department</th>\n",
       "      <th>Education</th>\n",
       "      <th>Gender</th>\n",
       "      <th>Title</th>\n",
       "      <th>Years</th>\n",
       "      <th>Salary</th>\n",
       "    </tr>\n",
       "  </thead>\n",
       "  <tbody>\n",
       "    <tr>\n",
       "      <th>2</th>\n",
       "      <td>David</td>\n",
       "      <td>HR</td>\n",
       "      <td>Master</td>\n",
       "      <td>M</td>\n",
       "      <td>analyst</td>\n",
       "      <td>2</td>\n",
       "      <td>30</td>\n",
       "    </tr>\n",
       "  </tbody>\n",
       "</table>\n",
       "</div>"
      ],
      "text/plain": [
       "    Name Department Education Gender    Title  Years  Salary\n",
       "2  David         HR    Master      M  analyst      2      30"
      ]
     },
     "execution_count": 18,
     "metadata": {},
     "output_type": "execute_result"
    }
   ],
   "source": [
    "employees[employees['Name'] == 'David']"
   ]
  },
  {
   "cell_type": "markdown",
   "metadata": {},
   "source": [
    "#### Could you give only David's salary?"
   ]
  },
  {
   "cell_type": "code",
   "execution_count": 19,
   "metadata": {},
   "outputs": [
    {
     "data": {
      "text/plain": [
       "2    30\n",
       "Name: Salary, dtype: int64"
      ]
     },
     "execution_count": 19,
     "metadata": {},
     "output_type": "execute_result"
    }
   ],
   "source": [
    "employees.Salary[employees['Name'] == 'David']"
   ]
  },
  {
   "cell_type": "markdown",
   "metadata": {},
   "source": [
    "#### Print all the rows where job title is associate"
   ]
  },
  {
   "cell_type": "code",
   "execution_count": 20,
   "metadata": {},
   "outputs": [
    {
     "data": {
      "text/html": [
       "<div>\n",
       "<style scoped>\n",
       "    .dataframe tbody tr th:only-of-type {\n",
       "        vertical-align: middle;\n",
       "    }\n",
       "\n",
       "    .dataframe tbody tr th {\n",
       "        vertical-align: top;\n",
       "    }\n",
       "\n",
       "    .dataframe thead th {\n",
       "        text-align: right;\n",
       "    }\n",
       "</style>\n",
       "<table border=\"1\" class=\"dataframe\">\n",
       "  <thead>\n",
       "    <tr style=\"text-align: right;\">\n",
       "      <th></th>\n",
       "      <th>Name</th>\n",
       "      <th>Department</th>\n",
       "      <th>Education</th>\n",
       "      <th>Gender</th>\n",
       "      <th>Title</th>\n",
       "      <th>Years</th>\n",
       "      <th>Salary</th>\n",
       "    </tr>\n",
       "  </thead>\n",
       "  <tbody>\n",
       "    <tr>\n",
       "      <th>4</th>\n",
       "      <td>Samuel</td>\n",
       "      <td>Sales</td>\n",
       "      <td>Master</td>\n",
       "      <td>M</td>\n",
       "      <td>associate</td>\n",
       "      <td>3</td>\n",
       "      <td>55</td>\n",
       "    </tr>\n",
       "    <tr>\n",
       "      <th>5</th>\n",
       "      <td>Eva</td>\n",
       "      <td>Sales</td>\n",
       "      <td>Bachelor</td>\n",
       "      <td>F</td>\n",
       "      <td>associate</td>\n",
       "      <td>2</td>\n",
       "      <td>55</td>\n",
       "    </tr>\n",
       "    <tr>\n",
       "      <th>7</th>\n",
       "      <td>Pedro</td>\n",
       "      <td>IT</td>\n",
       "      <td>Phd</td>\n",
       "      <td>M</td>\n",
       "      <td>associate</td>\n",
       "      <td>7</td>\n",
       "      <td>60</td>\n",
       "    </tr>\n",
       "  </tbody>\n",
       "</table>\n",
       "</div>"
      ],
      "text/plain": [
       "     Name Department Education Gender      Title  Years  Salary\n",
       "4  Samuel      Sales    Master      M  associate      3      55\n",
       "5     Eva      Sales  Bachelor      F  associate      2      55\n",
       "7   Pedro         IT       Phd      M  associate      7      60"
      ]
     },
     "execution_count": 20,
     "metadata": {},
     "output_type": "execute_result"
    }
   ],
   "source": [
    "employees[employees['Title'] == 'associate']"
   ]
  },
  {
   "cell_type": "markdown",
   "metadata": {},
   "source": [
    "#### Print the first 3 rows of your dataframe\n",
    "\n",
    "##### Tip : There are 2 ways to do it. Do it both ways"
   ]
  },
  {
   "cell_type": "code",
   "execution_count": 21,
   "metadata": {},
   "outputs": [
    {
     "data": {
      "text/html": [
       "<div>\n",
       "<style scoped>\n",
       "    .dataframe tbody tr th:only-of-type {\n",
       "        vertical-align: middle;\n",
       "    }\n",
       "\n",
       "    .dataframe tbody tr th {\n",
       "        vertical-align: top;\n",
       "    }\n",
       "\n",
       "    .dataframe thead th {\n",
       "        text-align: right;\n",
       "    }\n",
       "</style>\n",
       "<table border=\"1\" class=\"dataframe\">\n",
       "  <thead>\n",
       "    <tr style=\"text-align: right;\">\n",
       "      <th></th>\n",
       "      <th>Name</th>\n",
       "      <th>Department</th>\n",
       "      <th>Education</th>\n",
       "      <th>Gender</th>\n",
       "      <th>Title</th>\n",
       "      <th>Years</th>\n",
       "      <th>Salary</th>\n",
       "    </tr>\n",
       "  </thead>\n",
       "  <tbody>\n",
       "    <tr>\n",
       "      <th>0</th>\n",
       "      <td>Jose</td>\n",
       "      <td>IT</td>\n",
       "      <td>Bachelor</td>\n",
       "      <td>M</td>\n",
       "      <td>analyst</td>\n",
       "      <td>1</td>\n",
       "      <td>35</td>\n",
       "    </tr>\n",
       "    <tr>\n",
       "      <th>1</th>\n",
       "      <td>Maria</td>\n",
       "      <td>IT</td>\n",
       "      <td>Master</td>\n",
       "      <td>F</td>\n",
       "      <td>analyst</td>\n",
       "      <td>2</td>\n",
       "      <td>30</td>\n",
       "    </tr>\n",
       "    <tr>\n",
       "      <th>2</th>\n",
       "      <td>David</td>\n",
       "      <td>HR</td>\n",
       "      <td>Master</td>\n",
       "      <td>M</td>\n",
       "      <td>analyst</td>\n",
       "      <td>2</td>\n",
       "      <td>30</td>\n",
       "    </tr>\n",
       "  </tbody>\n",
       "</table>\n",
       "</div>"
      ],
      "text/plain": [
       "    Name Department Education Gender    Title  Years  Salary\n",
       "0   Jose         IT  Bachelor      M  analyst      1      35\n",
       "1  Maria         IT    Master      F  analyst      2      30\n",
       "2  David         HR    Master      M  analyst      2      30"
      ]
     },
     "execution_count": 21,
     "metadata": {},
     "output_type": "execute_result"
    }
   ],
   "source": [
    "employees.head(3)"
   ]
  },
  {
   "cell_type": "code",
   "execution_count": 22,
   "metadata": {},
   "outputs": [
    {
     "data": {
      "text/html": [
       "<div>\n",
       "<style scoped>\n",
       "    .dataframe tbody tr th:only-of-type {\n",
       "        vertical-align: middle;\n",
       "    }\n",
       "\n",
       "    .dataframe tbody tr th {\n",
       "        vertical-align: top;\n",
       "    }\n",
       "\n",
       "    .dataframe thead th {\n",
       "        text-align: right;\n",
       "    }\n",
       "</style>\n",
       "<table border=\"1\" class=\"dataframe\">\n",
       "  <thead>\n",
       "    <tr style=\"text-align: right;\">\n",
       "      <th></th>\n",
       "      <th>Name</th>\n",
       "      <th>Department</th>\n",
       "      <th>Education</th>\n",
       "      <th>Gender</th>\n",
       "      <th>Title</th>\n",
       "      <th>Years</th>\n",
       "      <th>Salary</th>\n",
       "    </tr>\n",
       "  </thead>\n",
       "  <tbody>\n",
       "    <tr>\n",
       "      <th>0</th>\n",
       "      <td>Jose</td>\n",
       "      <td>IT</td>\n",
       "      <td>Bachelor</td>\n",
       "      <td>M</td>\n",
       "      <td>analyst</td>\n",
       "      <td>1</td>\n",
       "      <td>35</td>\n",
       "    </tr>\n",
       "    <tr>\n",
       "      <th>1</th>\n",
       "      <td>Maria</td>\n",
       "      <td>IT</td>\n",
       "      <td>Master</td>\n",
       "      <td>F</td>\n",
       "      <td>analyst</td>\n",
       "      <td>2</td>\n",
       "      <td>30</td>\n",
       "    </tr>\n",
       "    <tr>\n",
       "      <th>2</th>\n",
       "      <td>David</td>\n",
       "      <td>HR</td>\n",
       "      <td>Master</td>\n",
       "      <td>M</td>\n",
       "      <td>analyst</td>\n",
       "      <td>2</td>\n",
       "      <td>30</td>\n",
       "    </tr>\n",
       "  </tbody>\n",
       "</table>\n",
       "</div>"
      ],
      "text/plain": [
       "    Name Department Education Gender    Title  Years  Salary\n",
       "0   Jose         IT  Bachelor      M  analyst      1      35\n",
       "1  Maria         IT    Master      F  analyst      2      30\n",
       "2  David         HR    Master      M  analyst      2      30"
      ]
     },
     "execution_count": 22,
     "metadata": {},
     "output_type": "execute_result"
    }
   ],
   "source": [
    "employees[:3]"
   ]
  },
  {
   "cell_type": "markdown",
   "metadata": {},
   "source": [
    "#### Find the employees who's title is associate and the salary above 55?"
   ]
  },
  {
   "cell_type": "code",
   "execution_count": 23,
   "metadata": {},
   "outputs": [
    {
     "data": {
      "text/html": [
       "<div>\n",
       "<style scoped>\n",
       "    .dataframe tbody tr th:only-of-type {\n",
       "        vertical-align: middle;\n",
       "    }\n",
       "\n",
       "    .dataframe tbody tr th {\n",
       "        vertical-align: top;\n",
       "    }\n",
       "\n",
       "    .dataframe thead th {\n",
       "        text-align: right;\n",
       "    }\n",
       "</style>\n",
       "<table border=\"1\" class=\"dataframe\">\n",
       "  <thead>\n",
       "    <tr style=\"text-align: right;\">\n",
       "      <th></th>\n",
       "      <th>Name</th>\n",
       "      <th>Department</th>\n",
       "      <th>Education</th>\n",
       "      <th>Gender</th>\n",
       "      <th>Title</th>\n",
       "      <th>Years</th>\n",
       "      <th>Salary</th>\n",
       "    </tr>\n",
       "  </thead>\n",
       "  <tbody>\n",
       "  </tbody>\n",
       "</table>\n",
       "</div>"
      ],
      "text/plain": [
       "Empty DataFrame\n",
       "Columns: [Name, Department, Education, Gender, Title, Years, Salary]\n",
       "Index: []"
      ]
     },
     "execution_count": 23,
     "metadata": {},
     "output_type": "execute_result"
    }
   ],
   "source": [
    "employees[(employees['Title'] == 'associate') & (employees['Salary'] < 55)]"
   ]
  },
  {
   "cell_type": "markdown",
   "metadata": {},
   "source": [
    "#### Group the employees based on their number of years of employment. What are the average salaries in each group?"
   ]
  },
  {
   "cell_type": "code",
   "execution_count": 24,
   "metadata": {},
   "outputs": [
    {
     "data": {
      "text/html": [
       "<div>\n",
       "<style scoped>\n",
       "    .dataframe tbody tr th:only-of-type {\n",
       "        vertical-align: middle;\n",
       "    }\n",
       "\n",
       "    .dataframe tbody tr th {\n",
       "        vertical-align: top;\n",
       "    }\n",
       "\n",
       "    .dataframe thead th {\n",
       "        text-align: right;\n",
       "    }\n",
       "</style>\n",
       "<table border=\"1\" class=\"dataframe\">\n",
       "  <thead>\n",
       "    <tr style=\"text-align: right;\">\n",
       "      <th></th>\n",
       "      <th>Salary</th>\n",
       "    </tr>\n",
       "    <tr>\n",
       "      <th>Years</th>\n",
       "      <th></th>\n",
       "    </tr>\n",
       "  </thead>\n",
       "  <tbody>\n",
       "    <tr>\n",
       "      <th>1</th>\n",
       "      <td>35.000000</td>\n",
       "    </tr>\n",
       "    <tr>\n",
       "      <th>2</th>\n",
       "      <td>38.333333</td>\n",
       "    </tr>\n",
       "    <tr>\n",
       "      <th>3</th>\n",
       "      <td>55.000000</td>\n",
       "    </tr>\n",
       "    <tr>\n",
       "      <th>4</th>\n",
       "      <td>35.000000</td>\n",
       "    </tr>\n",
       "    <tr>\n",
       "      <th>7</th>\n",
       "      <td>60.000000</td>\n",
       "    </tr>\n",
       "    <tr>\n",
       "      <th>8</th>\n",
       "      <td>70.000000</td>\n",
       "    </tr>\n",
       "  </tbody>\n",
       "</table>\n",
       "</div>"
      ],
      "text/plain": [
       "          Salary\n",
       "Years           \n",
       "1      35.000000\n",
       "2      38.333333\n",
       "3      55.000000\n",
       "4      35.000000\n",
       "7      60.000000\n",
       "8      70.000000"
      ]
     },
     "execution_count": 24,
     "metadata": {},
     "output_type": "execute_result"
    }
   ],
   "source": [
    "employees.groupby(by='Years').mean()"
   ]
  },
  {
   "cell_type": "markdown",
   "metadata": {},
   "source": [
    "####  What is the average Salary per title?"
   ]
  },
  {
   "cell_type": "code",
   "execution_count": 25,
   "metadata": {},
   "outputs": [
    {
     "data": {
      "text/html": [
       "<div>\n",
       "<style scoped>\n",
       "    .dataframe tbody tr th:only-of-type {\n",
       "        vertical-align: middle;\n",
       "    }\n",
       "\n",
       "    .dataframe tbody tr th {\n",
       "        vertical-align: top;\n",
       "    }\n",
       "\n",
       "    .dataframe thead th {\n",
       "        text-align: right;\n",
       "    }\n",
       "</style>\n",
       "<table border=\"1\" class=\"dataframe\">\n",
       "  <thead>\n",
       "    <tr style=\"text-align: right;\">\n",
       "      <th></th>\n",
       "      <th>Years</th>\n",
       "      <th>Salary</th>\n",
       "    </tr>\n",
       "    <tr>\n",
       "      <th>Title</th>\n",
       "      <th></th>\n",
       "      <th></th>\n",
       "    </tr>\n",
       "  </thead>\n",
       "  <tbody>\n",
       "    <tr>\n",
       "      <th>VP</th>\n",
       "      <td>8.00</td>\n",
       "      <td>70.000000</td>\n",
       "    </tr>\n",
       "    <tr>\n",
       "      <th>analyst</th>\n",
       "      <td>2.25</td>\n",
       "      <td>32.500000</td>\n",
       "    </tr>\n",
       "    <tr>\n",
       "      <th>associate</th>\n",
       "      <td>4.00</td>\n",
       "      <td>56.666667</td>\n",
       "    </tr>\n",
       "  </tbody>\n",
       "</table>\n",
       "</div>"
      ],
      "text/plain": [
       "           Years     Salary\n",
       "Title                      \n",
       "VP          8.00  70.000000\n",
       "analyst     2.25  32.500000\n",
       "associate   4.00  56.666667"
      ]
     },
     "execution_count": 25,
     "metadata": {},
     "output_type": "execute_result"
    }
   ],
   "source": [
    "employees.groupby(by='Title').mean()"
   ]
  },
  {
   "cell_type": "markdown",
   "metadata": {},
   "source": [
    "#### Show a visual summary of the data using boxplot. What Are the First and Third Quartiles? Comment your results.\n",
    "##### * Hint : Quantiles vs Quartiles*\n",
    "`In Probability and Statistics, quantiles are cut points dividing the range of a probability distribution into continuous intervals with equal probabilities. When division is into four parts the values of the variate corresponding to 25%, 50% and 75% of the total distribution are called quartiles.`"
   ]
  },
  {
   "cell_type": "code",
   "execution_count": 26,
   "metadata": {},
   "outputs": [
    {
     "data": {
      "text/plain": [
       "<AxesSubplot:>"
      ]
     },
     "execution_count": 26,
     "metadata": {},
     "output_type": "execute_result"
    },
    {
     "data": {
      "image/png": "[encoded data removed]",
      "text/plain": [
       "<Figure size 576x396 with 1 Axes>"
      ]
     },
     "metadata": {},
     "output_type": "display_data"
    }
   ],
   "source": [
    "employees.boxplot()"
   ]
  },
  {
   "cell_type": "code",
   "execution_count": 27,
   "metadata": {},
   "outputs": [
    {
     "data": {
      "text/plain": [
       "Years      2.0\n",
       "Salary    35.0\n",
       "Name: 0.25, dtype: float64"
      ]
     },
     "execution_count": 27,
     "metadata": {},
     "output_type": "execute_result"
    }
   ],
   "source": [
    "employees.quantile(.25)"
   ]
  },
  {
   "cell_type": "code",
   "execution_count": 28,
   "metadata": {},
   "outputs": [
    {
     "data": {
      "text/plain": [
       "Years      7.0\n",
       "Salary    60.0\n",
       "Name: 0.75, dtype: float64"
      ]
     },
     "execution_count": 28,
     "metadata": {},
     "output_type": "execute_result"
    }
   ],
   "source": [
    "employees.quantile(.75)"
   ]
  },
  {
   "cell_type": "markdown",
   "metadata": {},
   "source": [
    "#### Is the mean salary per gender different?"
   ]
  },
  {
   "cell_type": "code",
   "execution_count": 29,
   "metadata": {},
   "outputs": [
    {
     "data": {
      "text/html": [
       "<div>\n",
       "<style scoped>\n",
       "    .dataframe tbody tr th:only-of-type {\n",
       "        vertical-align: middle;\n",
       "    }\n",
       "\n",
       "    .dataframe tbody tr th {\n",
       "        vertical-align: top;\n",
       "    }\n",
       "\n",
       "    .dataframe thead th {\n",
       "        text-align: right;\n",
       "    }\n",
       "</style>\n",
       "<table border=\"1\" class=\"dataframe\">\n",
       "  <thead>\n",
       "    <tr style=\"text-align: right;\">\n",
       "      <th></th>\n",
       "      <th>Years</th>\n",
       "      <th>Salary</th>\n",
       "    </tr>\n",
       "    <tr>\n",
       "      <th>Gender</th>\n",
       "      <th></th>\n",
       "      <th></th>\n",
       "    </tr>\n",
       "  </thead>\n",
       "  <tbody>\n",
       "    <tr>\n",
       "      <th>F</th>\n",
       "      <td>4.0</td>\n",
       "      <td>47.5</td>\n",
       "    </tr>\n",
       "    <tr>\n",
       "      <th>M</th>\n",
       "      <td>4.2</td>\n",
       "      <td>50.0</td>\n",
       "    </tr>\n",
       "  </tbody>\n",
       "</table>\n",
       "</div>"
      ],
      "text/plain": [
       "        Years  Salary\n",
       "Gender               \n",
       "F         4.0    47.5\n",
       "M         4.2    50.0"
      ]
     },
     "execution_count": 29,
     "metadata": {},
     "output_type": "execute_result"
    }
   ],
   "source": [
    "employees.groupby(by='Gender').mean()"
   ]
  },
  {
   "cell_type": "markdown",
   "metadata": {},
   "source": [
    "#### Find the minimum, mean and the maximum of all numeric columns for each Department.\n",
    "\n",
    "##### Hint: Use functions from Data Manipulation lesson"
   ]
  },
  {
   "cell_type": "code",
   "execution_count": 30,
   "metadata": {},
   "outputs": [
    {
     "data": {
      "text/plain": [
       "(               Years  Salary\n",
       " Department                  \n",
       " HR          4.666667   45.00\n",
       " IT          4.500000   48.75\n",
       " Sales       2.500000   55.00,\n",
       "               Name Education Gender      Title  Years  Salary\n",
       " Department                                                   \n",
       " HR           Sonia    Master      M    analyst      8      70\n",
       " IT           Pedro       Phd      M  associate      8      70\n",
       " Sales       Samuel    Master      M  associate      3      55,\n",
       "               Name Education Gender      Title  Years  Salary\n",
       " Department                                                   \n",
       " HR             Ana  Bachelor      F         VP      2      30\n",
       " IT          Carlos  Bachelor      F         VP      1      30\n",
       " Sales          Eva  Bachelor      F  associate      2      55)"
      ]
     },
     "execution_count": 30,
     "metadata": {},
     "output_type": "execute_result"
    }
   ],
   "source": [
    "employees.groupby(by='Department').mean(), employees.groupby(by='Department').max(), employees.groupby(by='Department').min()"
   ]
  },
  {
   "cell_type": "markdown",
   "metadata": {},
   "source": [
    "### Bonus Question\n",
    "\n",
    "#### For each department, compute the difference between the maximal salary and the minimal salary.\n",
    "\n",
    "##### * Hint: try using `agg` or `apply` and `lambda`*"
   ]
  },
  {
   "cell_type": "code",
   "execution_count": 31,
   "metadata": {},
   "outputs": [
    {
     "data": {
      "text/plain": [
       "Department\n",
       "HR       40\n",
       "IT       40\n",
       "Sales     0\n",
       "Name: Salary, dtype: int64"
      ]
     },
     "execution_count": 31,
     "metadata": {},
     "output_type": "execute_result"
    }
   ],
   "source": [
    "employees.groupby(by='Department').max().Salary - employees.groupby(by='Department').min().Salary"
   ]
  },
  {
   "cell_type": "markdown",
   "metadata": {
    "collapsed": true
   },
   "source": [
    "# Challenge 3"
   ]
  },
  {
   "cell_type": "markdown",
   "metadata": {},
   "source": [
    "#### Open the Orders.csv dataset. Name your dataset orders"
   ]
  },
  {
   "cell_type": "code",
   "execution_count": 32,
   "metadata": {},
   "outputs": [
    {
     "data": {
      "text/html": [
       "<div>\n",
       "<style scoped>\n",
       "    .dataframe tbody tr th:only-of-type {\n",
       "        vertical-align: middle;\n",
       "    }\n",
       "\n",
       "    .dataframe tbody tr th {\n",
       "        vertical-align: top;\n",
       "    }\n",
       "\n",
       "    .dataframe thead th {\n",
       "        text-align: right;\n",
       "    }\n",
       "</style>\n",
       "<table border=\"1\" class=\"dataframe\">\n",
       "  <thead>\n",
       "    <tr style=\"text-align: right;\">\n",
       "      <th></th>\n",
       "      <th>InvoiceNo</th>\n",
       "      <th>StockCode</th>\n",
       "      <th>year</th>\n",
       "      <th>month</th>\n",
       "      <th>day</th>\n",
       "      <th>hour</th>\n",
       "      <th>Description</th>\n",
       "      <th>Quantity</th>\n",
       "      <th>InvoiceDate</th>\n",
       "      <th>UnitPrice</th>\n",
       "      <th>CustomerID</th>\n",
       "      <th>Country</th>\n",
       "      <th>amount_spent</th>\n",
       "    </tr>\n",
       "  </thead>\n",
       "  <tbody>\n",
       "    <tr>\n",
       "      <th>0</th>\n",
       "      <td>536365</td>\n",
       "      <td>85123A</td>\n",
       "      <td>2010</td>\n",
       "      <td>12</td>\n",
       "      <td>3</td>\n",
       "      <td>8</td>\n",
       "      <td>white hanging heart t-light holder</td>\n",
       "      <td>6</td>\n",
       "      <td>2010-12-01 08:26:00</td>\n",
       "      <td>2.55</td>\n",
       "      <td>17850</td>\n",
       "      <td>United Kingdom</td>\n",
       "      <td>15.30</td>\n",
       "    </tr>\n",
       "    <tr>\n",
       "      <th>1</th>\n",
       "      <td>536365</td>\n",
       "      <td>71053</td>\n",
       "      <td>2010</td>\n",
       "      <td>12</td>\n",
       "      <td>3</td>\n",
       "      <td>8</td>\n",
       "      <td>white metal lantern</td>\n",
       "      <td>6</td>\n",
       "      <td>2010-12-01 08:26:00</td>\n",
       "      <td>3.39</td>\n",
       "      <td>17850</td>\n",
       "      <td>United Kingdom</td>\n",
       "      <td>20.34</td>\n",
       "    </tr>\n",
       "    <tr>\n",
       "      <th>2</th>\n",
       "      <td>536365</td>\n",
       "      <td>84406B</td>\n",
       "      <td>2010</td>\n",
       "      <td>12</td>\n",
       "      <td>3</td>\n",
       "      <td>8</td>\n",
       "      <td>cream cupid hearts coat hanger</td>\n",
       "      <td>8</td>\n",
       "      <td>2010-12-01 08:26:00</td>\n",
       "      <td>2.75</td>\n",
       "      <td>17850</td>\n",
       "      <td>United Kingdom</td>\n",
       "      <td>22.00</td>\n",
       "    </tr>\n",
       "  </tbody>\n",
       "</table>\n",
       "</div>"
      ],
      "text/plain": [
       "   InvoiceNo StockCode  year  month  day  hour  \\\n",
       "0     536365    85123A  2010     12    3     8   \n",
       "1     536365     71053  2010     12    3     8   \n",
       "2     536365    84406B  2010     12    3     8   \n",
       "\n",
       "                          Description  Quantity          InvoiceDate  \\\n",
       "0  white hanging heart t-light holder         6  2010-12-01 08:26:00   \n",
       "1                 white metal lantern         6  2010-12-01 08:26:00   \n",
       "2      cream cupid hearts coat hanger         8  2010-12-01 08:26:00   \n",
       "\n",
       "   UnitPrice  CustomerID         Country  amount_spent  \n",
       "0       2.55       17850  United Kingdom         15.30  \n",
       "1       3.39       17850  United Kingdom         20.34  \n",
       "2       2.75       17850  United Kingdom         22.00  "
      ]
     },
     "execution_count": 32,
     "metadata": {},
     "output_type": "execute_result"
    }
   ],
   "source": [
    "orders = pd.read_csv('Orders.zip', index_col=[0])\n",
    "orders.head(3)"
   ]
  },
  {
   "cell_type": "markdown",
   "metadata": {},
   "source": [
    "#### Explore your dataset by looking at the data types and the summary statistics. Comment your results"
   ]
  },
  {
   "cell_type": "code",
   "execution_count": 33,
   "metadata": {},
   "outputs": [
    {
     "data": {
      "text/html": [
       "<div>\n",
       "<style scoped>\n",
       "    .dataframe tbody tr th:only-of-type {\n",
       "        vertical-align: middle;\n",
       "    }\n",
       "\n",
       "    .dataframe tbody tr th {\n",
       "        vertical-align: top;\n",
       "    }\n",
       "\n",
       "    .dataframe thead th {\n",
       "        text-align: right;\n",
       "    }\n",
       "</style>\n",
       "<table border=\"1\" class=\"dataframe\">\n",
       "  <thead>\n",
       "    <tr style=\"text-align: right;\">\n",
       "      <th></th>\n",
       "      <th>InvoiceNo</th>\n",
       "      <th>year</th>\n",
       "      <th>month</th>\n",
       "      <th>day</th>\n",
       "      <th>hour</th>\n",
       "      <th>Quantity</th>\n",
       "      <th>UnitPrice</th>\n",
       "      <th>CustomerID</th>\n",
       "      <th>amount_spent</th>\n",
       "    </tr>\n",
       "  </thead>\n",
       "  <tbody>\n",
       "    <tr>\n",
       "      <th>count</th>\n",
       "      <td>397924.000000</td>\n",
       "      <td>397924.000000</td>\n",
       "      <td>397924.000000</td>\n",
       "      <td>397924.000000</td>\n",
       "      <td>397924.000000</td>\n",
       "      <td>397924.000000</td>\n",
       "      <td>397924.000000</td>\n",
       "      <td>397924.000000</td>\n",
       "      <td>397924.000000</td>\n",
       "    </tr>\n",
       "    <tr>\n",
       "      <th>mean</th>\n",
       "      <td>560617.126645</td>\n",
       "      <td>2010.934259</td>\n",
       "      <td>7.612537</td>\n",
       "      <td>3.614555</td>\n",
       "      <td>12.728247</td>\n",
       "      <td>13.021823</td>\n",
       "      <td>3.116174</td>\n",
       "      <td>15294.315171</td>\n",
       "      <td>22.394749</td>\n",
       "    </tr>\n",
       "    <tr>\n",
       "      <th>std</th>\n",
       "      <td>13106.167695</td>\n",
       "      <td>0.247829</td>\n",
       "      <td>3.416527</td>\n",
       "      <td>1.928274</td>\n",
       "      <td>2.273535</td>\n",
       "      <td>180.420210</td>\n",
       "      <td>22.096788</td>\n",
       "      <td>1713.169877</td>\n",
       "      <td>309.055588</td>\n",
       "    </tr>\n",
       "    <tr>\n",
       "      <th>min</th>\n",
       "      <td>536365.000000</td>\n",
       "      <td>2010.000000</td>\n",
       "      <td>1.000000</td>\n",
       "      <td>1.000000</td>\n",
       "      <td>6.000000</td>\n",
       "      <td>1.000000</td>\n",
       "      <td>0.000000</td>\n",
       "      <td>12346.000000</td>\n",
       "      <td>0.000000</td>\n",
       "    </tr>\n",
       "    <tr>\n",
       "      <th>25%</th>\n",
       "      <td>549234.000000</td>\n",
       "      <td>2011.000000</td>\n",
       "      <td>5.000000</td>\n",
       "      <td>2.000000</td>\n",
       "      <td>11.000000</td>\n",
       "      <td>2.000000</td>\n",
       "      <td>1.250000</td>\n",
       "      <td>13969.000000</td>\n",
       "      <td>4.680000</td>\n",
       "    </tr>\n",
       "    <tr>\n",
       "      <th>50%</th>\n",
       "      <td>561893.000000</td>\n",
       "      <td>2011.000000</td>\n",
       "      <td>8.000000</td>\n",
       "      <td>3.000000</td>\n",
       "      <td>13.000000</td>\n",
       "      <td>6.000000</td>\n",
       "      <td>1.950000</td>\n",
       "      <td>15159.000000</td>\n",
       "      <td>11.800000</td>\n",
       "    </tr>\n",
       "    <tr>\n",
       "      <th>75%</th>\n",
       "      <td>572090.000000</td>\n",
       "      <td>2011.000000</td>\n",
       "      <td>11.000000</td>\n",
       "      <td>5.000000</td>\n",
       "      <td>14.000000</td>\n",
       "      <td>12.000000</td>\n",
       "      <td>3.750000</td>\n",
       "      <td>16795.000000</td>\n",
       "      <td>19.800000</td>\n",
       "    </tr>\n",
       "    <tr>\n",
       "      <th>max</th>\n",
       "      <td>581587.000000</td>\n",
       "      <td>2011.000000</td>\n",
       "      <td>12.000000</td>\n",
       "      <td>7.000000</td>\n",
       "      <td>20.000000</td>\n",
       "      <td>80995.000000</td>\n",
       "      <td>8142.750000</td>\n",
       "      <td>18287.000000</td>\n",
       "      <td>168469.600000</td>\n",
       "    </tr>\n",
       "  </tbody>\n",
       "</table>\n",
       "</div>"
      ],
      "text/plain": [
       "           InvoiceNo           year          month            day  \\\n",
       "count  397924.000000  397924.000000  397924.000000  397924.000000   \n",
       "mean   560617.126645    2010.934259       7.612537       3.614555   \n",
       "std     13106.167695       0.247829       3.416527       1.928274   \n",
       "min    536365.000000    2010.000000       1.000000       1.000000   \n",
       "25%    549234.000000    2011.000000       5.000000       2.000000   \n",
       "50%    561893.000000    2011.000000       8.000000       3.000000   \n",
       "75%    572090.000000    2011.000000      11.000000       5.000000   \n",
       "max    581587.000000    2011.000000      12.000000       7.000000   \n",
       "\n",
       "                hour       Quantity      UnitPrice     CustomerID  \\\n",
       "count  397924.000000  397924.000000  397924.000000  397924.000000   \n",
       "mean       12.728247      13.021823       3.116174   15294.315171   \n",
       "std         2.273535     180.420210      22.096788    1713.169877   \n",
       "min         6.000000       1.000000       0.000000   12346.000000   \n",
       "25%        11.000000       2.000000       1.250000   13969.000000   \n",
       "50%        13.000000       6.000000       1.950000   15159.000000   \n",
       "75%        14.000000      12.000000       3.750000   16795.000000   \n",
       "max        20.000000   80995.000000    8142.750000   18287.000000   \n",
       "\n",
       "        amount_spent  \n",
       "count  397924.000000  \n",
       "mean       22.394749  \n",
       "std       309.055588  \n",
       "min         0.000000  \n",
       "25%         4.680000  \n",
       "50%        11.800000  \n",
       "75%        19.800000  \n",
       "max    168469.600000  "
      ]
     },
     "execution_count": 33,
     "metadata": {},
     "output_type": "execute_result"
    }
   ],
   "source": [
    "orders.describe()"
   ]
  },
  {
   "cell_type": "code",
   "execution_count": 34,
   "metadata": {},
   "outputs": [
    {
     "data": {
      "text/plain": [
       "{'InvoiceNo': dtype('int64'),\n",
       " 'StockCode': dtype('O'),\n",
       " 'year': dtype('int64'),\n",
       " 'month': dtype('int64'),\n",
       " 'day': dtype('int64'),\n",
       " 'hour': dtype('int64'),\n",
       " 'Description': dtype('O'),\n",
       " 'Quantity': dtype('int64'),\n",
       " 'InvoiceDate': dtype('O'),\n",
       " 'UnitPrice': dtype('float64'),\n",
       " 'CustomerID': dtype('int64'),\n",
       " 'Country': dtype('O'),\n",
       " 'amount_spent': dtype('float64')}"
      ]
     },
     "execution_count": 34,
     "metadata": {},
     "output_type": "execute_result"
    }
   ],
   "source": [
    "{col:orders[f'{col}'].dtype for col in orders.columns}"
   ]
  },
  {
   "cell_type": "markdown",
   "metadata": {},
   "source": [
    "####  What is the average Purchase Price?"
   ]
  },
  {
   "cell_type": "code",
   "execution_count": 35,
   "metadata": {},
   "outputs": [
    {
     "data": {
      "text/plain": [
       "22.39474850474768"
      ]
     },
     "execution_count": 35,
     "metadata": {},
     "output_type": "execute_result"
    }
   ],
   "source": [
    "orders.amount_spent.mean()"
   ]
  },
  {
   "cell_type": "markdown",
   "metadata": {},
   "source": [
    "#### What were the highest and lowest purchase prices? "
   ]
  },
  {
   "cell_type": "code",
   "execution_count": 36,
   "metadata": {},
   "outputs": [
    {
     "data": {
      "text/plain": [
       "168469.6"
      ]
     },
     "execution_count": 36,
     "metadata": {},
     "output_type": "execute_result"
    }
   ],
   "source": [
    "orders.amount_spent.max()"
   ]
  },
  {
   "cell_type": "code",
   "execution_count": 37,
   "metadata": {},
   "outputs": [
    {
     "data": {
      "text/plain": [
       "0.0"
      ]
     },
     "execution_count": 37,
     "metadata": {},
     "output_type": "execute_result"
    }
   ],
   "source": [
    "orders.amount_spent.min()"
   ]
  },
  {
   "cell_type": "markdown",
   "metadata": {},
   "source": [
    "#### Select all the customers we have in Spain"
   ]
  },
  {
   "cell_type": "code",
   "execution_count": 38,
   "metadata": {},
   "outputs": [
    {
     "data": {
      "text/html": [
       "<div>\n",
       "<style scoped>\n",
       "    .dataframe tbody tr th:only-of-type {\n",
       "        vertical-align: middle;\n",
       "    }\n",
       "\n",
       "    .dataframe tbody tr th {\n",
       "        vertical-align: top;\n",
       "    }\n",
       "\n",
       "    .dataframe thead th {\n",
       "        text-align: right;\n",
       "    }\n",
       "</style>\n",
       "<table border=\"1\" class=\"dataframe\">\n",
       "  <thead>\n",
       "    <tr style=\"text-align: right;\">\n",
       "      <th></th>\n",
       "      <th>InvoiceNo</th>\n",
       "      <th>StockCode</th>\n",
       "      <th>year</th>\n",
       "      <th>month</th>\n",
       "      <th>day</th>\n",
       "      <th>hour</th>\n",
       "      <th>Description</th>\n",
       "      <th>Quantity</th>\n",
       "      <th>InvoiceDate</th>\n",
       "      <th>UnitPrice</th>\n",
       "      <th>CustomerID</th>\n",
       "      <th>Country</th>\n",
       "      <th>amount_spent</th>\n",
       "    </tr>\n",
       "  </thead>\n",
       "  <tbody>\n",
       "    <tr>\n",
       "      <th>6421</th>\n",
       "      <td>536944</td>\n",
       "      <td>22383</td>\n",
       "      <td>2010</td>\n",
       "      <td>12</td>\n",
       "      <td>5</td>\n",
       "      <td>12</td>\n",
       "      <td>lunch bag suki  design</td>\n",
       "      <td>70</td>\n",
       "      <td>2010-12-03 12:20:00</td>\n",
       "      <td>1.65</td>\n",
       "      <td>12557</td>\n",
       "      <td>Spain</td>\n",
       "      <td>115.5</td>\n",
       "    </tr>\n",
       "    <tr>\n",
       "      <th>6422</th>\n",
       "      <td>536944</td>\n",
       "      <td>22384</td>\n",
       "      <td>2010</td>\n",
       "      <td>12</td>\n",
       "      <td>5</td>\n",
       "      <td>12</td>\n",
       "      <td>lunch bag pink polkadot</td>\n",
       "      <td>100</td>\n",
       "      <td>2010-12-03 12:20:00</td>\n",
       "      <td>1.45</td>\n",
       "      <td>12557</td>\n",
       "      <td>Spain</td>\n",
       "      <td>145.0</td>\n",
       "    </tr>\n",
       "    <tr>\n",
       "      <th>6423</th>\n",
       "      <td>536944</td>\n",
       "      <td>20727</td>\n",
       "      <td>2010</td>\n",
       "      <td>12</td>\n",
       "      <td>5</td>\n",
       "      <td>12</td>\n",
       "      <td>lunch bag  black skull.</td>\n",
       "      <td>60</td>\n",
       "      <td>2010-12-03 12:20:00</td>\n",
       "      <td>1.65</td>\n",
       "      <td>12557</td>\n",
       "      <td>Spain</td>\n",
       "      <td>99.0</td>\n",
       "    </tr>\n",
       "    <tr>\n",
       "      <th>6424</th>\n",
       "      <td>536944</td>\n",
       "      <td>20725</td>\n",
       "      <td>2010</td>\n",
       "      <td>12</td>\n",
       "      <td>5</td>\n",
       "      <td>12</td>\n",
       "      <td>lunch bag red retrospot</td>\n",
       "      <td>70</td>\n",
       "      <td>2010-12-03 12:20:00</td>\n",
       "      <td>1.65</td>\n",
       "      <td>12557</td>\n",
       "      <td>Spain</td>\n",
       "      <td>115.5</td>\n",
       "    </tr>\n",
       "    <tr>\n",
       "      <th>6425</th>\n",
       "      <td>536944</td>\n",
       "      <td>20728</td>\n",
       "      <td>2010</td>\n",
       "      <td>12</td>\n",
       "      <td>5</td>\n",
       "      <td>12</td>\n",
       "      <td>lunch bag cars blue</td>\n",
       "      <td>100</td>\n",
       "      <td>2010-12-03 12:20:00</td>\n",
       "      <td>1.45</td>\n",
       "      <td>12557</td>\n",
       "      <td>Spain</td>\n",
       "      <td>145.0</td>\n",
       "    </tr>\n",
       "  </tbody>\n",
       "</table>\n",
       "</div>"
      ],
      "text/plain": [
       "      InvoiceNo StockCode  year  month  day  hour              Description  \\\n",
       "6421     536944     22383  2010     12    5    12  lunch bag suki  design    \n",
       "6422     536944     22384  2010     12    5    12  lunch bag pink polkadot   \n",
       "6423     536944     20727  2010     12    5    12  lunch bag  black skull.   \n",
       "6424     536944     20725  2010     12    5    12  lunch bag red retrospot   \n",
       "6425     536944     20728  2010     12    5    12      lunch bag cars blue   \n",
       "\n",
       "      Quantity          InvoiceDate  UnitPrice  CustomerID Country  \\\n",
       "6421        70  2010-12-03 12:20:00       1.65       12557   Spain   \n",
       "6422       100  2010-12-03 12:20:00       1.45       12557   Spain   \n",
       "6423        60  2010-12-03 12:20:00       1.65       12557   Spain   \n",
       "6424        70  2010-12-03 12:20:00       1.65       12557   Spain   \n",
       "6425       100  2010-12-03 12:20:00       1.45       12557   Spain   \n",
       "\n",
       "      amount_spent  \n",
       "6421         115.5  \n",
       "6422         145.0  \n",
       "6423          99.0  \n",
       "6424         115.5  \n",
       "6425         145.0  "
      ]
     },
     "execution_count": 38,
     "metadata": {},
     "output_type": "execute_result"
    }
   ],
   "source": [
    "orders[orders.Country == 'Spain'].head()"
   ]
  },
  {
   "cell_type": "markdown",
   "metadata": {},
   "source": [
    "#### How many customers do we have in Spain?\n",
    "##### Hint : Use value_counts()"
   ]
  },
  {
   "cell_type": "code",
   "execution_count": 39,
   "metadata": {},
   "outputs": [
    {
     "data": {
      "text/plain": [
       "Spain    2485\n",
       "Name: Country, dtype: int64"
      ]
     },
     "execution_count": 39,
     "metadata": {},
     "output_type": "execute_result"
    }
   ],
   "source": [
    "orders.Country[orders.Country == 'Spain'].value_counts()"
   ]
  },
  {
   "cell_type": "markdown",
   "metadata": {},
   "source": [
    "#### Select all the customers who have bought more than 50 items ?"
   ]
  },
  {
   "cell_type": "code",
   "execution_count": 40,
   "metadata": {},
   "outputs": [
    {
     "data": {
      "text/html": [
       "<div>\n",
       "<style scoped>\n",
       "    .dataframe tbody tr th:only-of-type {\n",
       "        vertical-align: middle;\n",
       "    }\n",
       "\n",
       "    .dataframe tbody tr th {\n",
       "        vertical-align: top;\n",
       "    }\n",
       "\n",
       "    .dataframe thead th {\n",
       "        text-align: right;\n",
       "    }\n",
       "</style>\n",
       "<table border=\"1\" class=\"dataframe\">\n",
       "  <thead>\n",
       "    <tr style=\"text-align: right;\">\n",
       "      <th></th>\n",
       "      <th>InvoiceNo</th>\n",
       "      <th>StockCode</th>\n",
       "      <th>year</th>\n",
       "      <th>month</th>\n",
       "      <th>day</th>\n",
       "      <th>hour</th>\n",
       "      <th>Description</th>\n",
       "      <th>Quantity</th>\n",
       "      <th>InvoiceDate</th>\n",
       "      <th>UnitPrice</th>\n",
       "      <th>CustomerID</th>\n",
       "      <th>Country</th>\n",
       "      <th>amount_spent</th>\n",
       "    </tr>\n",
       "  </thead>\n",
       "  <tbody>\n",
       "    <tr>\n",
       "      <th>46</th>\n",
       "      <td>536371</td>\n",
       "      <td>22086</td>\n",
       "      <td>2010</td>\n",
       "      <td>12</td>\n",
       "      <td>3</td>\n",
       "      <td>9</td>\n",
       "      <td>paper chain kit 50's christmas</td>\n",
       "      <td>80</td>\n",
       "      <td>2010-12-01 09:00:00</td>\n",
       "      <td>2.55</td>\n",
       "      <td>13748</td>\n",
       "      <td>United Kingdom</td>\n",
       "      <td>204.00</td>\n",
       "    </tr>\n",
       "    <tr>\n",
       "      <th>83</th>\n",
       "      <td>536376</td>\n",
       "      <td>21733</td>\n",
       "      <td>2010</td>\n",
       "      <td>12</td>\n",
       "      <td>3</td>\n",
       "      <td>9</td>\n",
       "      <td>red hanging heart t-light holder</td>\n",
       "      <td>64</td>\n",
       "      <td>2010-12-01 09:32:00</td>\n",
       "      <td>2.55</td>\n",
       "      <td>15291</td>\n",
       "      <td>United Kingdom</td>\n",
       "      <td>163.20</td>\n",
       "    </tr>\n",
       "    <tr>\n",
       "      <th>96</th>\n",
       "      <td>536378</td>\n",
       "      <td>21212</td>\n",
       "      <td>2010</td>\n",
       "      <td>12</td>\n",
       "      <td>3</td>\n",
       "      <td>9</td>\n",
       "      <td>pack of 72 retrospot cake cases</td>\n",
       "      <td>120</td>\n",
       "      <td>2010-12-01 09:37:00</td>\n",
       "      <td>0.42</td>\n",
       "      <td>14688</td>\n",
       "      <td>United Kingdom</td>\n",
       "      <td>50.40</td>\n",
       "    </tr>\n",
       "    <tr>\n",
       "      <th>102</th>\n",
       "      <td>536378</td>\n",
       "      <td>85071B</td>\n",
       "      <td>2010</td>\n",
       "      <td>12</td>\n",
       "      <td>3</td>\n",
       "      <td>9</td>\n",
       "      <td>red charlie+lola personal doorsign</td>\n",
       "      <td>96</td>\n",
       "      <td>2010-12-01 09:37:00</td>\n",
       "      <td>0.38</td>\n",
       "      <td>14688</td>\n",
       "      <td>United Kingdom</td>\n",
       "      <td>36.48</td>\n",
       "    </tr>\n",
       "    <tr>\n",
       "      <th>176</th>\n",
       "      <td>536386</td>\n",
       "      <td>85099C</td>\n",
       "      <td>2010</td>\n",
       "      <td>12</td>\n",
       "      <td>3</td>\n",
       "      <td>9</td>\n",
       "      <td>jumbo  bag baroque black white</td>\n",
       "      <td>100</td>\n",
       "      <td>2010-12-01 09:57:00</td>\n",
       "      <td>1.65</td>\n",
       "      <td>16029</td>\n",
       "      <td>United Kingdom</td>\n",
       "      <td>165.00</td>\n",
       "    </tr>\n",
       "  </tbody>\n",
       "</table>\n",
       "</div>"
      ],
      "text/plain": [
       "     InvoiceNo StockCode  year  month  day  hour  \\\n",
       "46      536371     22086  2010     12    3     9   \n",
       "83      536376     21733  2010     12    3     9   \n",
       "96      536378     21212  2010     12    3     9   \n",
       "102     536378    85071B  2010     12    3     9   \n",
       "176     536386    85099C  2010     12    3     9   \n",
       "\n",
       "                            Description  Quantity          InvoiceDate  \\\n",
       "46      paper chain kit 50's christmas         80  2010-12-01 09:00:00   \n",
       "83     red hanging heart t-light holder        64  2010-12-01 09:32:00   \n",
       "96      pack of 72 retrospot cake cases       120  2010-12-01 09:37:00   \n",
       "102  red charlie+lola personal doorsign        96  2010-12-01 09:37:00   \n",
       "176      jumbo  bag baroque black white       100  2010-12-01 09:57:00   \n",
       "\n",
       "     UnitPrice  CustomerID         Country  amount_spent  \n",
       "46        2.55       13748  United Kingdom        204.00  \n",
       "83        2.55       15291  United Kingdom        163.20  \n",
       "96        0.42       14688  United Kingdom         50.40  \n",
       "102       0.38       14688  United Kingdom         36.48  \n",
       "176       1.65       16029  United Kingdom        165.00  "
      ]
     },
     "execution_count": 40,
     "metadata": {},
     "output_type": "execute_result"
    }
   ],
   "source": [
    "orders[orders.Quantity > 50].head()"
   ]
  },
  {
   "cell_type": "markdown",
   "metadata": {},
   "source": [
    "#### Select orders from Spain that are above 50 items"
   ]
  },
  {
   "cell_type": "code",
   "execution_count": 41,
   "metadata": {
    "scrolled": false
   },
   "outputs": [
    {
     "data": {
      "text/html": [
       "<div>\n",
       "<style scoped>\n",
       "    .dataframe tbody tr th:only-of-type {\n",
       "        vertical-align: middle;\n",
       "    }\n",
       "\n",
       "    .dataframe tbody tr th {\n",
       "        vertical-align: top;\n",
       "    }\n",
       "\n",
       "    .dataframe thead th {\n",
       "        text-align: right;\n",
       "    }\n",
       "</style>\n",
       "<table border=\"1\" class=\"dataframe\">\n",
       "  <thead>\n",
       "    <tr style=\"text-align: right;\">\n",
       "      <th></th>\n",
       "      <th>InvoiceNo</th>\n",
       "      <th>StockCode</th>\n",
       "      <th>year</th>\n",
       "      <th>month</th>\n",
       "      <th>day</th>\n",
       "      <th>hour</th>\n",
       "      <th>Description</th>\n",
       "      <th>Quantity</th>\n",
       "      <th>InvoiceDate</th>\n",
       "      <th>UnitPrice</th>\n",
       "      <th>CustomerID</th>\n",
       "      <th>Country</th>\n",
       "      <th>amount_spent</th>\n",
       "    </tr>\n",
       "  </thead>\n",
       "  <tbody>\n",
       "    <tr>\n",
       "      <th>6421</th>\n",
       "      <td>536944</td>\n",
       "      <td>22383</td>\n",
       "      <td>2010</td>\n",
       "      <td>12</td>\n",
       "      <td>5</td>\n",
       "      <td>12</td>\n",
       "      <td>lunch bag suki  design</td>\n",
       "      <td>70</td>\n",
       "      <td>2010-12-03 12:20:00</td>\n",
       "      <td>1.65</td>\n",
       "      <td>12557</td>\n",
       "      <td>Spain</td>\n",
       "      <td>115.5</td>\n",
       "    </tr>\n",
       "    <tr>\n",
       "      <th>6422</th>\n",
       "      <td>536944</td>\n",
       "      <td>22384</td>\n",
       "      <td>2010</td>\n",
       "      <td>12</td>\n",
       "      <td>5</td>\n",
       "      <td>12</td>\n",
       "      <td>lunch bag pink polkadot</td>\n",
       "      <td>100</td>\n",
       "      <td>2010-12-03 12:20:00</td>\n",
       "      <td>1.45</td>\n",
       "      <td>12557</td>\n",
       "      <td>Spain</td>\n",
       "      <td>145.0</td>\n",
       "    </tr>\n",
       "    <tr>\n",
       "      <th>6423</th>\n",
       "      <td>536944</td>\n",
       "      <td>20727</td>\n",
       "      <td>2010</td>\n",
       "      <td>12</td>\n",
       "      <td>5</td>\n",
       "      <td>12</td>\n",
       "      <td>lunch bag  black skull.</td>\n",
       "      <td>60</td>\n",
       "      <td>2010-12-03 12:20:00</td>\n",
       "      <td>1.65</td>\n",
       "      <td>12557</td>\n",
       "      <td>Spain</td>\n",
       "      <td>99.0</td>\n",
       "    </tr>\n",
       "  </tbody>\n",
       "</table>\n",
       "</div>"
      ],
      "text/plain": [
       "      InvoiceNo StockCode  year  month  day  hour              Description  \\\n",
       "6421     536944     22383  2010     12    5    12  lunch bag suki  design    \n",
       "6422     536944     22384  2010     12    5    12  lunch bag pink polkadot   \n",
       "6423     536944     20727  2010     12    5    12  lunch bag  black skull.   \n",
       "\n",
       "      Quantity          InvoiceDate  UnitPrice  CustomerID Country  \\\n",
       "6421        70  2010-12-03 12:20:00       1.65       12557   Spain   \n",
       "6422       100  2010-12-03 12:20:00       1.45       12557   Spain   \n",
       "6423        60  2010-12-03 12:20:00       1.65       12557   Spain   \n",
       "\n",
       "      amount_spent  \n",
       "6421         115.5  \n",
       "6422         145.0  \n",
       "6423          99.0  "
      ]
     },
     "execution_count": 41,
     "metadata": {},
     "output_type": "execute_result"
    }
   ],
   "source": [
    "orders[(orders.Country == 'Spain') & (orders.Quantity > 50)].head(3)"
   ]
  },
  {
   "cell_type": "markdown",
   "metadata": {},
   "source": [
    "#### Select all free orders"
   ]
  },
  {
   "cell_type": "code",
   "execution_count": 42,
   "metadata": {},
   "outputs": [
    {
     "data": {
      "text/html": [
       "<div>\n",
       "<style scoped>\n",
       "    .dataframe tbody tr th:only-of-type {\n",
       "        vertical-align: middle;\n",
       "    }\n",
       "\n",
       "    .dataframe tbody tr th {\n",
       "        vertical-align: top;\n",
       "    }\n",
       "\n",
       "    .dataframe thead th {\n",
       "        text-align: right;\n",
       "    }\n",
       "</style>\n",
       "<table border=\"1\" class=\"dataframe\">\n",
       "  <thead>\n",
       "    <tr style=\"text-align: right;\">\n",
       "      <th></th>\n",
       "      <th>InvoiceNo</th>\n",
       "      <th>StockCode</th>\n",
       "      <th>year</th>\n",
       "      <th>month</th>\n",
       "      <th>day</th>\n",
       "      <th>hour</th>\n",
       "      <th>Description</th>\n",
       "      <th>Quantity</th>\n",
       "      <th>InvoiceDate</th>\n",
       "      <th>UnitPrice</th>\n",
       "      <th>CustomerID</th>\n",
       "      <th>Country</th>\n",
       "      <th>amount_spent</th>\n",
       "    </tr>\n",
       "  </thead>\n",
       "  <tbody>\n",
       "    <tr>\n",
       "      <th>9302</th>\n",
       "      <td>537197</td>\n",
       "      <td>22841</td>\n",
       "      <td>2010</td>\n",
       "      <td>12</td>\n",
       "      <td>7</td>\n",
       "      <td>14</td>\n",
       "      <td>round cake tin vintage green</td>\n",
       "      <td>1</td>\n",
       "      <td>2010-12-05 14:02:00</td>\n",
       "      <td>0.0</td>\n",
       "      <td>12647</td>\n",
       "      <td>Germany</td>\n",
       "      <td>0.0</td>\n",
       "    </tr>\n",
       "    <tr>\n",
       "      <th>33576</th>\n",
       "      <td>539263</td>\n",
       "      <td>22580</td>\n",
       "      <td>2010</td>\n",
       "      <td>12</td>\n",
       "      <td>4</td>\n",
       "      <td>14</td>\n",
       "      <td>advent calendar gingham sack</td>\n",
       "      <td>4</td>\n",
       "      <td>2010-12-16 14:36:00</td>\n",
       "      <td>0.0</td>\n",
       "      <td>16560</td>\n",
       "      <td>United Kingdom</td>\n",
       "      <td>0.0</td>\n",
       "    </tr>\n",
       "    <tr>\n",
       "      <th>40089</th>\n",
       "      <td>539722</td>\n",
       "      <td>22423</td>\n",
       "      <td>2010</td>\n",
       "      <td>12</td>\n",
       "      <td>2</td>\n",
       "      <td>13</td>\n",
       "      <td>regency cakestand 3 tier</td>\n",
       "      <td>10</td>\n",
       "      <td>2010-12-21 13:45:00</td>\n",
       "      <td>0.0</td>\n",
       "      <td>14911</td>\n",
       "      <td>EIRE</td>\n",
       "      <td>0.0</td>\n",
       "    </tr>\n",
       "    <tr>\n",
       "      <th>47068</th>\n",
       "      <td>540372</td>\n",
       "      <td>22090</td>\n",
       "      <td>2011</td>\n",
       "      <td>1</td>\n",
       "      <td>4</td>\n",
       "      <td>16</td>\n",
       "      <td>paper bunting retrospot</td>\n",
       "      <td>24</td>\n",
       "      <td>2011-01-06 16:41:00</td>\n",
       "      <td>0.0</td>\n",
       "      <td>13081</td>\n",
       "      <td>United Kingdom</td>\n",
       "      <td>0.0</td>\n",
       "    </tr>\n",
       "    <tr>\n",
       "      <th>47070</th>\n",
       "      <td>540372</td>\n",
       "      <td>22553</td>\n",
       "      <td>2011</td>\n",
       "      <td>1</td>\n",
       "      <td>4</td>\n",
       "      <td>16</td>\n",
       "      <td>plasters in tin skulls</td>\n",
       "      <td>24</td>\n",
       "      <td>2011-01-06 16:41:00</td>\n",
       "      <td>0.0</td>\n",
       "      <td>13081</td>\n",
       "      <td>United Kingdom</td>\n",
       "      <td>0.0</td>\n",
       "    </tr>\n",
       "  </tbody>\n",
       "</table>\n",
       "</div>"
      ],
      "text/plain": [
       "       InvoiceNo StockCode  year  month  day  hour  \\\n",
       "9302      537197     22841  2010     12    7    14   \n",
       "33576     539263     22580  2010     12    4    14   \n",
       "40089     539722     22423  2010     12    2    13   \n",
       "47068     540372     22090  2011      1    4    16   \n",
       "47070     540372     22553  2011      1    4    16   \n",
       "\n",
       "                        Description  Quantity          InvoiceDate  UnitPrice  \\\n",
       "9302   round cake tin vintage green         1  2010-12-05 14:02:00        0.0   \n",
       "33576  advent calendar gingham sack         4  2010-12-16 14:36:00        0.0   \n",
       "40089      regency cakestand 3 tier        10  2010-12-21 13:45:00        0.0   \n",
       "47068       paper bunting retrospot        24  2011-01-06 16:41:00        0.0   \n",
       "47070        plasters in tin skulls        24  2011-01-06 16:41:00        0.0   \n",
       "\n",
       "       CustomerID         Country  amount_spent  \n",
       "9302        12647         Germany           0.0  \n",
       "33576       16560  United Kingdom           0.0  \n",
       "40089       14911            EIRE           0.0  \n",
       "47068       13081  United Kingdom           0.0  \n",
       "47070       13081  United Kingdom           0.0  "
      ]
     },
     "execution_count": 42,
     "metadata": {},
     "output_type": "execute_result"
    }
   ],
   "source": [
    "orders[orders.amount_spent == 0].head()"
   ]
  },
  {
   "cell_type": "markdown",
   "metadata": {},
   "source": [
    "#### Select all orders that are 'lunch bag'\n",
    "#### Hint: Use string functions"
   ]
  },
  {
   "cell_type": "code",
   "execution_count": 67,
   "metadata": {},
   "outputs": [
    {
     "data": {
      "text/html": [
       "<div>\n",
       "<style scoped>\n",
       "    .dataframe tbody tr th:only-of-type {\n",
       "        vertical-align: middle;\n",
       "    }\n",
       "\n",
       "    .dataframe tbody tr th {\n",
       "        vertical-align: top;\n",
       "    }\n",
       "\n",
       "    .dataframe thead th {\n",
       "        text-align: right;\n",
       "    }\n",
       "</style>\n",
       "<table border=\"1\" class=\"dataframe\">\n",
       "  <thead>\n",
       "    <tr style=\"text-align: right;\">\n",
       "      <th></th>\n",
       "      <th>InvoiceNo</th>\n",
       "      <th>StockCode</th>\n",
       "      <th>year</th>\n",
       "      <th>month</th>\n",
       "      <th>day</th>\n",
       "      <th>hour</th>\n",
       "      <th>Description</th>\n",
       "      <th>Quantity</th>\n",
       "      <th>InvoiceDate</th>\n",
       "      <th>UnitPrice</th>\n",
       "      <th>CustomerID</th>\n",
       "      <th>Country</th>\n",
       "      <th>amount_spent</th>\n",
       "    </tr>\n",
       "  </thead>\n",
       "  <tbody>\n",
       "    <tr>\n",
       "      <th>93</th>\n",
       "      <td>536378</td>\n",
       "      <td>20725</td>\n",
       "      <td>2010</td>\n",
       "      <td>12</td>\n",
       "      <td>3</td>\n",
       "      <td>9</td>\n",
       "      <td>lunch bag red retrospot</td>\n",
       "      <td>10</td>\n",
       "      <td>2010-12-01 09:37:00</td>\n",
       "      <td>1.65</td>\n",
       "      <td>14688</td>\n",
       "      <td>United Kingdom</td>\n",
       "      <td>16.50</td>\n",
       "    </tr>\n",
       "    <tr>\n",
       "      <th>174</th>\n",
       "      <td>536385</td>\n",
       "      <td>22662</td>\n",
       "      <td>2010</td>\n",
       "      <td>12</td>\n",
       "      <td>3</td>\n",
       "      <td>9</td>\n",
       "      <td>lunch bag dolly girl design</td>\n",
       "      <td>10</td>\n",
       "      <td>2010-12-01 09:56:00</td>\n",
       "      <td>1.65</td>\n",
       "      <td>17420</td>\n",
       "      <td>United Kingdom</td>\n",
       "      <td>16.50</td>\n",
       "    </tr>\n",
       "    <tr>\n",
       "      <th>363</th>\n",
       "      <td>536401</td>\n",
       "      <td>22662</td>\n",
       "      <td>2010</td>\n",
       "      <td>12</td>\n",
       "      <td>3</td>\n",
       "      <td>11</td>\n",
       "      <td>lunch bag dolly girl design</td>\n",
       "      <td>1</td>\n",
       "      <td>2010-12-01 11:21:00</td>\n",
       "      <td>1.65</td>\n",
       "      <td>15862</td>\n",
       "      <td>United Kingdom</td>\n",
       "      <td>1.65</td>\n",
       "    </tr>\n",
       "  </tbody>\n",
       "</table>\n",
       "</div>"
      ],
      "text/plain": [
       "     InvoiceNo StockCode  year  month  day  hour                  Description  \\\n",
       "93      536378     20725  2010     12    3     9      lunch bag red retrospot   \n",
       "174     536385     22662  2010     12    3     9  lunch bag dolly girl design   \n",
       "363     536401     22662  2010     12    3    11  lunch bag dolly girl design   \n",
       "\n",
       "     Quantity          InvoiceDate  UnitPrice  CustomerID         Country  \\\n",
       "93         10  2010-12-01 09:37:00       1.65       14688  United Kingdom   \n",
       "174        10  2010-12-01 09:56:00       1.65       17420  United Kingdom   \n",
       "363         1  2010-12-01 11:21:00       1.65       15862  United Kingdom   \n",
       "\n",
       "     amount_spent  \n",
       "93          16.50  \n",
       "174         16.50  \n",
       "363          1.65  "
      ]
     },
     "execution_count": 67,
     "metadata": {},
     "output_type": "execute_result"
    }
   ],
   "source": [
    "mask = orders.Description.apply(lambda x: True if 'lunch bag' in x else False)\n",
    "orders[mask].head(3)"
   ]
  },
  {
   "cell_type": "markdown",
   "metadata": {},
   "source": [
    "#### Select all orders that are made in 2011 and are 'lunch bag'  "
   ]
  },
  {
   "cell_type": "code",
   "execution_count": 74,
   "metadata": {},
   "outputs": [
    {
     "data": {
      "text/html": [
       "<div>\n",
       "<style scoped>\n",
       "    .dataframe tbody tr th:only-of-type {\n",
       "        vertical-align: middle;\n",
       "    }\n",
       "\n",
       "    .dataframe tbody tr th {\n",
       "        vertical-align: top;\n",
       "    }\n",
       "\n",
       "    .dataframe thead th {\n",
       "        text-align: right;\n",
       "    }\n",
       "</style>\n",
       "<table border=\"1\" class=\"dataframe\">\n",
       "  <thead>\n",
       "    <tr style=\"text-align: right;\">\n",
       "      <th></th>\n",
       "      <th>InvoiceNo</th>\n",
       "      <th>StockCode</th>\n",
       "      <th>year</th>\n",
       "      <th>month</th>\n",
       "      <th>day</th>\n",
       "      <th>hour</th>\n",
       "      <th>Description</th>\n",
       "      <th>Quantity</th>\n",
       "      <th>InvoiceDate</th>\n",
       "      <th>UnitPrice</th>\n",
       "      <th>CustomerID</th>\n",
       "      <th>Country</th>\n",
       "      <th>amount_spent</th>\n",
       "    </tr>\n",
       "  </thead>\n",
       "  <tbody>\n",
       "    <tr>\n",
       "      <th>42678</th>\n",
       "      <td>540015</td>\n",
       "      <td>20725</td>\n",
       "      <td>2011</td>\n",
       "      <td>1</td>\n",
       "      <td>2</td>\n",
       "      <td>11</td>\n",
       "      <td>lunch bag red retrospot</td>\n",
       "      <td>10</td>\n",
       "      <td>2011-01-04 11:40:00</td>\n",
       "      <td>1.65</td>\n",
       "      <td>13319</td>\n",
       "      <td>United Kingdom</td>\n",
       "      <td>16.5</td>\n",
       "    </tr>\n",
       "    <tr>\n",
       "      <th>42679</th>\n",
       "      <td>540015</td>\n",
       "      <td>20726</td>\n",
       "      <td>2011</td>\n",
       "      <td>1</td>\n",
       "      <td>2</td>\n",
       "      <td>11</td>\n",
       "      <td>lunch bag woodland</td>\n",
       "      <td>10</td>\n",
       "      <td>2011-01-04 11:40:00</td>\n",
       "      <td>1.65</td>\n",
       "      <td>13319</td>\n",
       "      <td>United Kingdom</td>\n",
       "      <td>16.5</td>\n",
       "    </tr>\n",
       "    <tr>\n",
       "      <th>42851</th>\n",
       "      <td>540023</td>\n",
       "      <td>22382</td>\n",
       "      <td>2011</td>\n",
       "      <td>1</td>\n",
       "      <td>2</td>\n",
       "      <td>12</td>\n",
       "      <td>lunch bag spaceboy design</td>\n",
       "      <td>2</td>\n",
       "      <td>2011-01-04 12:58:00</td>\n",
       "      <td>1.65</td>\n",
       "      <td>15039</td>\n",
       "      <td>United Kingdom</td>\n",
       "      <td>3.3</td>\n",
       "    </tr>\n",
       "  </tbody>\n",
       "</table>\n",
       "</div>"
      ],
      "text/plain": [
       "       InvoiceNo StockCode  year  month  day  hour  \\\n",
       "42678     540015     20725  2011      1    2    11   \n",
       "42679     540015     20726  2011      1    2    11   \n",
       "42851     540023     22382  2011      1    2    12   \n",
       "\n",
       "                      Description  Quantity          InvoiceDate  UnitPrice  \\\n",
       "42678     lunch bag red retrospot        10  2011-01-04 11:40:00       1.65   \n",
       "42679          lunch bag woodland        10  2011-01-04 11:40:00       1.65   \n",
       "42851  lunch bag spaceboy design          2  2011-01-04 12:58:00       1.65   \n",
       "\n",
       "       CustomerID         Country  amount_spent  \n",
       "42678       13319  United Kingdom          16.5  \n",
       "42679       13319  United Kingdom          16.5  \n",
       "42851       15039  United Kingdom           3.3  "
      ]
     },
     "execution_count": 74,
     "metadata": {},
     "output_type": "execute_result"
    }
   ],
   "source": [
    "orders[(orders.year == 2011) & mask].head(3)"
   ]
  },
  {
   "cell_type": "markdown",
   "metadata": {},
   "source": [
    "#### Show the frequency distribution of the amount spent in Spain."
   ]
  },
  {
   "cell_type": "code",
   "execution_count": 95,
   "metadata": {},
   "outputs": [
    {
     "data": {
      "text/plain": [
       "<AxesSubplot:>"
      ]
     },
     "execution_count": 95,
     "metadata": {},
     "output_type": "execute_result"
    },
    {
     "data": {
      "image/png": "[encoded data removed]",
      "text/plain": [
       "<Figure size 576x396 with 1 Axes>"
      ]
     },
     "metadata": {},
     "output_type": "display_data"
    }
   ],
   "source": [
    "orders.amount_spent.value_counts().hist(bins=15)"
   ]
  },
  {
   "cell_type": "markdown",
   "metadata": {},
   "source": [
    "#### Select all orders made in the month of August"
   ]
  },
  {
   "cell_type": "code",
   "execution_count": 100,
   "metadata": {},
   "outputs": [],
   "source": [
    "orders.InvoiceDate = pd.to_datetime(orders.InvoiceDate)\n",
    "orders.set_index(['InvoiceDate'], inplace=True)"
   ]
  },
  {
   "cell_type": "code",
   "execution_count": 102,
   "metadata": {},
   "outputs": [
    {
     "data": {
      "text/html": [
       "<div>\n",
       "<style scoped>\n",
       "    .dataframe tbody tr th:only-of-type {\n",
       "        vertical-align: middle;\n",
       "    }\n",
       "\n",
       "    .dataframe tbody tr th {\n",
       "        vertical-align: top;\n",
       "    }\n",
       "\n",
       "    .dataframe thead th {\n",
       "        text-align: right;\n",
       "    }\n",
       "</style>\n",
       "<table border=\"1\" class=\"dataframe\">\n",
       "  <thead>\n",
       "    <tr style=\"text-align: right;\">\n",
       "      <th></th>\n",
       "      <th>InvoiceNo</th>\n",
       "      <th>StockCode</th>\n",
       "      <th>year</th>\n",
       "      <th>month</th>\n",
       "      <th>day</th>\n",
       "      <th>hour</th>\n",
       "      <th>Description</th>\n",
       "      <th>Quantity</th>\n",
       "      <th>UnitPrice</th>\n",
       "      <th>CustomerID</th>\n",
       "      <th>Country</th>\n",
       "      <th>amount_spent</th>\n",
       "    </tr>\n",
       "    <tr>\n",
       "      <th>InvoiceDate</th>\n",
       "      <th></th>\n",
       "      <th></th>\n",
       "      <th></th>\n",
       "      <th></th>\n",
       "      <th></th>\n",
       "      <th></th>\n",
       "      <th></th>\n",
       "      <th></th>\n",
       "      <th></th>\n",
       "      <th></th>\n",
       "      <th></th>\n",
       "      <th></th>\n",
       "    </tr>\n",
       "  </thead>\n",
       "  <tbody>\n",
       "    <tr>\n",
       "      <th>2011-08-01 08:30:00</th>\n",
       "      <td>561904</td>\n",
       "      <td>22075</td>\n",
       "      <td>2011</td>\n",
       "      <td>8</td>\n",
       "      <td>1</td>\n",
       "      <td>8</td>\n",
       "      <td>6 ribbons elegant christmas</td>\n",
       "      <td>96</td>\n",
       "      <td>1.45</td>\n",
       "      <td>17941</td>\n",
       "      <td>United Kingdom</td>\n",
       "      <td>139.20</td>\n",
       "    </tr>\n",
       "    <tr>\n",
       "      <th>2011-08-01 08:30:00</th>\n",
       "      <td>561904</td>\n",
       "      <td>85049E</td>\n",
       "      <td>2011</td>\n",
       "      <td>8</td>\n",
       "      <td>1</td>\n",
       "      <td>8</td>\n",
       "      <td>scandinavian reds ribbons</td>\n",
       "      <td>156</td>\n",
       "      <td>1.06</td>\n",
       "      <td>17941</td>\n",
       "      <td>United Kingdom</td>\n",
       "      <td>165.36</td>\n",
       "    </tr>\n",
       "    <tr>\n",
       "      <th>2011-08-01 09:31:00</th>\n",
       "      <td>561905</td>\n",
       "      <td>21385</td>\n",
       "      <td>2011</td>\n",
       "      <td>8</td>\n",
       "      <td>1</td>\n",
       "      <td>9</td>\n",
       "      <td>ivory hanging decoration  heart</td>\n",
       "      <td>24</td>\n",
       "      <td>0.85</td>\n",
       "      <td>14947</td>\n",
       "      <td>United Kingdom</td>\n",
       "      <td>20.40</td>\n",
       "    </tr>\n",
       "    <tr>\n",
       "      <th>2011-08-01 09:31:00</th>\n",
       "      <td>561905</td>\n",
       "      <td>84970L</td>\n",
       "      <td>2011</td>\n",
       "      <td>8</td>\n",
       "      <td>1</td>\n",
       "      <td>9</td>\n",
       "      <td>single heart zinc t-light holder</td>\n",
       "      <td>12</td>\n",
       "      <td>0.95</td>\n",
       "      <td>14947</td>\n",
       "      <td>United Kingdom</td>\n",
       "      <td>11.40</td>\n",
       "    </tr>\n",
       "    <tr>\n",
       "      <th>2011-08-01 09:31:00</th>\n",
       "      <td>561905</td>\n",
       "      <td>84970S</td>\n",
       "      <td>2011</td>\n",
       "      <td>8</td>\n",
       "      <td>1</td>\n",
       "      <td>9</td>\n",
       "      <td>hanging heart zinc t-light holder</td>\n",
       "      <td>12</td>\n",
       "      <td>0.85</td>\n",
       "      <td>14947</td>\n",
       "      <td>United Kingdom</td>\n",
       "      <td>10.20</td>\n",
       "    </tr>\n",
       "  </tbody>\n",
       "</table>\n",
       "</div>"
      ],
      "text/plain": [
       "                     InvoiceNo StockCode  year  month  day  hour  \\\n",
       "InvoiceDate                                                        \n",
       "2011-08-01 08:30:00     561904     22075  2011      8    1     8   \n",
       "2011-08-01 08:30:00     561904    85049E  2011      8    1     8   \n",
       "2011-08-01 09:31:00     561905     21385  2011      8    1     9   \n",
       "2011-08-01 09:31:00     561905    84970L  2011      8    1     9   \n",
       "2011-08-01 09:31:00     561905    84970S  2011      8    1     9   \n",
       "\n",
       "                                           Description  Quantity  UnitPrice  \\\n",
       "InvoiceDate                                                                   \n",
       "2011-08-01 08:30:00       6 ribbons elegant christmas         96       1.45   \n",
       "2011-08-01 08:30:00          scandinavian reds ribbons       156       1.06   \n",
       "2011-08-01 09:31:00    ivory hanging decoration  heart        24       0.85   \n",
       "2011-08-01 09:31:00   single heart zinc t-light holder        12       0.95   \n",
       "2011-08-01 09:31:00  hanging heart zinc t-light holder        12       0.85   \n",
       "\n",
       "                     CustomerID         Country  amount_spent  \n",
       "InvoiceDate                                                    \n",
       "2011-08-01 08:30:00       17941  United Kingdom        139.20  \n",
       "2011-08-01 08:30:00       17941  United Kingdom        165.36  \n",
       "2011-08-01 09:31:00       14947  United Kingdom         20.40  \n",
       "2011-08-01 09:31:00       14947  United Kingdom         11.40  \n",
       "2011-08-01 09:31:00       14947  United Kingdom         10.20  "
      ]
     },
     "execution_count": 102,
     "metadata": {},
     "output_type": "execute_result"
    }
   ],
   "source": [
    "orders[orders.index.month.isin([8])].head()"
   ]
  },
  {
   "cell_type": "markdown",
   "metadata": {},
   "source": [
    "#### Select how many orders are made by countries in the month of August\n",
    "##### Hint: Use value_counts()"
   ]
  },
  {
   "cell_type": "code",
   "execution_count": 120,
   "metadata": {},
   "outputs": [
    {
     "data": {
      "text/plain": [
       "Country\n",
       "United Kingdom     310832\n",
       "Netherlands         29876\n",
       "Australia           12570\n",
       "Germany              9641\n",
       "EIRE                 9331\n",
       "France               7958\n",
       "Israel               3028\n",
       "Switzerland          2998\n",
       "Belgium              2069\n",
       "Channel Islands      2009\n",
       "Spain                1600\n",
       "Sweden               1314\n",
       "Italy                1147\n",
       "Portugal             1026\n",
       "Austria               790\n",
       "Finland               693\n",
       "Norway                636\n",
       "Malta                 382\n",
       "Denmark               338\n",
       "Iceland               277\n",
       "Poland                186\n",
       "Unspecified           185\n",
       "Canada                 52\n",
       "Name: Quantity, dtype: int64"
      ]
     },
     "execution_count": 120,
     "metadata": {},
     "output_type": "execute_result"
    }
   ],
   "source": [
    "orders[ orders.index.month.isin([8]) ].groupby(by='Country').sum().Quantity.sort_values(ascending=False)"
   ]
  },
  {
   "cell_type": "markdown",
   "metadata": {},
   "source": [
    "#### What's the  average amount of money spent by country"
   ]
  },
  {
   "cell_type": "code",
   "execution_count": 123,
   "metadata": {},
   "outputs": [
    {
     "data": {
      "text/plain": [
       "Country\n",
       "Netherlands             120.798282\n",
       "Australia               116.895620\n",
       "Japan                   116.561900\n",
       "Singapore                95.852658\n",
       "Sweden                   85.096075\n",
       "Denmark                  49.882474\n",
       "Lithuania                47.458857\n",
       "Lebanon                  37.641778\n",
       "EIRE                     36.687745\n",
       "Brazil                   35.737500\n",
       "Norway                   33.736418\n",
       "Czech Republic           33.069600\n",
       "Finland                  32.913985\n",
       "Greece                   32.831172\n",
       "Bahrain                  32.258824\n",
       "Switzerland              30.642752\n",
       "Israel                   29.119718\n",
       "United Arab Emirates     27.974706\n",
       "Channel Islands          27.340160\n",
       "Austria                  25.624824\n",
       "Germany                  25.311562\n",
       "France                   25.056827\n",
       "Spain                    24.779521\n",
       "Malta                    24.335625\n",
       "Canada                   24.280662\n",
       "Iceland                  23.681319\n",
       "Italy                    23.064960\n",
       "Portugal                 22.872702\n",
       "Poland                   22.226212\n",
       "Cyprus                   22.134169\n",
       "European Community       21.670833\n",
       "United Kingdom           20.625073\n",
       "Belgium                  20.283772\n",
       "USA                      20.002179\n",
       "RSA                      17.281207\n",
       "Saudi Arabia             16.213333\n",
       "Unspecified              10.930615\n",
       "Name: amount_spent, dtype: float64"
      ]
     },
     "execution_count": 123,
     "metadata": {},
     "output_type": "execute_result"
    }
   ],
   "source": [
    "orders.groupby(by='Country').mean().amount_spent.sort_values(ascending=False)"
   ]
  },
  {
   "cell_type": "markdown",
   "metadata": {},
   "source": [
    "#### What's the most expensive item?"
   ]
  },
  {
   "cell_type": "code",
   "execution_count": 128,
   "metadata": {},
   "outputs": [
    {
     "data": {
      "text/html": [
       "<div>\n",
       "<style scoped>\n",
       "    .dataframe tbody tr th:only-of-type {\n",
       "        vertical-align: middle;\n",
       "    }\n",
       "\n",
       "    .dataframe tbody tr th {\n",
       "        vertical-align: top;\n",
       "    }\n",
       "\n",
       "    .dataframe thead th {\n",
       "        text-align: right;\n",
       "    }\n",
       "</style>\n",
       "<table border=\"1\" class=\"dataframe\">\n",
       "  <thead>\n",
       "    <tr style=\"text-align: right;\">\n",
       "      <th></th>\n",
       "      <th>Description</th>\n",
       "      <th>amount_spent</th>\n",
       "    </tr>\n",
       "    <tr>\n",
       "      <th>InvoiceDate</th>\n",
       "      <th></th>\n",
       "      <th></th>\n",
       "    </tr>\n",
       "  </thead>\n",
       "  <tbody>\n",
       "    <tr>\n",
       "      <th>2011-12-09 09:15:00</th>\n",
       "      <td>paper craft , little birdie</td>\n",
       "      <td>168469.6</td>\n",
       "    </tr>\n",
       "  </tbody>\n",
       "</table>\n",
       "</div>"
      ],
      "text/plain": [
       "                                     Description  amount_spent\n",
       "InvoiceDate                                                   \n",
       "2011-12-09 09:15:00  paper craft , little birdie      168469.6"
      ]
     },
     "execution_count": 128,
     "metadata": {},
     "output_type": "execute_result"
    }
   ],
   "source": [
    "orders[ orders.amount_spent == orders.amount_spent.max()][['Description', 'amount_spent']]"
   ]
  },
  {
   "cell_type": "markdown",
   "metadata": {},
   "source": [
    "#### What was the average amount spent per year ?"
   ]
  },
  {
   "cell_type": "code",
   "execution_count": 129,
   "metadata": {},
   "outputs": [
    {
     "data": {
      "text/plain": [
       "year\n",
       "2011    22.430074\n",
       "2010    21.892733\n",
       "Name: amount_spent, dtype: float64"
      ]
     },
     "execution_count": 129,
     "metadata": {},
     "output_type": "execute_result"
    }
   ],
   "source": [
    "orders.groupby(by='year').mean().amount_spent.sort_values(ascending=False)"
   ]
  },
  {
   "cell_type": "code",
   "execution_count": null,
   "metadata": {},
   "outputs": [],
   "source": []
  }
 ],
 "metadata": {
  "anaconda-cloud": {},
  "kernelspec": {
   "display_name": "Python 3",
   "language": "python",
   "name": "python3"
  },
  "language_info": {
   "codemirror_mode": {
    "name": "ipython",
    "version": 3
   },
   "file_extension": ".py",
   "mimetype": "text/x-python",
   "name": "python",
   "nbconvert_exporter": "python",
   "pygments_lexer": "ipython3",
   "version": "3.8.3"
  }
 },
 "nbformat": 4,
 "nbformat_minor": 1
}
