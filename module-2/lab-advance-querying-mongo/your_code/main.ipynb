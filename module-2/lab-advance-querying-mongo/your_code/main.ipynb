{
 "cells": [
  {
   "cell_type": "markdown",
   "metadata": {},
   "source": [
    "# Advanced Querying Mongo"
   ]
  },
  {
   "cell_type": "markdown",
   "metadata": {},
   "source": [
    "Importing libraries and setting up connection"
   ]
  },
  {
   "cell_type": "code",
   "execution_count": 1,
   "metadata": {},
   "outputs": [],
   "source": [
    "from pymongo import MongoClient\n",
    "client = MongoClient()"
   ]
  },
  {
   "cell_type": "code",
   "execution_count": 2,
   "metadata": {},
   "outputs": [],
   "source": [
    "db = client.companies"
   ]
  },
  {
   "cell_type": "code",
   "execution_count": 3,
   "metadata": {},
   "outputs": [
    {
     "data": {
      "text/plain": [
       "['companies']"
      ]
     },
     "execution_count": 3,
     "metadata": {},
     "output_type": "execute_result"
    }
   ],
   "source": [
    "db.list_collection_names()"
   ]
  },
  {
   "cell_type": "code",
   "execution_count": 4,
   "metadata": {},
   "outputs": [],
   "source": [
    "dataset = db.companies.find({})"
   ]
  },
  {
   "cell_type": "code",
   "execution_count": 5,
   "metadata": {},
   "outputs": [],
   "source": [
    "dataset = list(dataset)"
   ]
  },
  {
   "cell_type": "code",
   "execution_count": 6,
   "metadata": {},
   "outputs": [
    {
     "data": {
      "text/plain": [
       "dict_keys(['_id', 'name', 'permalink', 'crunchbase_url', 'homepage_url', 'blog_url', 'blog_feed_url', 'twitter_username', 'category_code', 'number_of_employees', 'founded_year', 'founded_month', 'founded_day', 'deadpooled_year', 'tag_list', 'alias_list', 'email_address', 'phone_number', 'description', 'created_at', 'updated_at', 'overview', 'image', 'products', 'relationships', 'competitions', 'providerships', 'total_money_raised', 'funding_rounds', 'investments', 'acquisition', 'acquisitions', 'offices', 'milestones', 'video_embeds', 'screenshots', 'external_links', 'partners'])"
      ]
     },
     "execution_count": 6,
     "metadata": {},
     "output_type": "execute_result"
    }
   ],
   "source": [
    "dataset[0].keys()"
   ]
  },
  {
   "cell_type": "markdown",
   "metadata": {},
   "source": [
    "### 1. All the companies whose name match 'Babelgum'. Retrieve only their `name` field."
   ]
  },
  {
   "cell_type": "code",
   "execution_count": 42,
   "metadata": {},
   "outputs": [],
   "source": [
    "babelgum = db.companies.find({'name':\"Babelgum\"},{\"name\":1})\n",
    "babelgum = list(babelgum)"
   ]
  },
  {
   "cell_type": "code",
   "execution_count": 8,
   "metadata": {},
   "outputs": [
    {
     "data": {
      "text/plain": [
       "<pymongo.cursor.Cursor at 0x7ff7a97697c0>"
      ]
     },
     "execution_count": 8,
     "metadata": {},
     "output_type": "execute_result"
    }
   ],
   "source": [
    "babelgum"
   ]
  },
  {
   "cell_type": "markdown",
   "metadata": {},
   "source": [
    "### 2. All the companies that have more than 5000 employees. Limit the search to 20 companies and sort them by **number of employees**."
   ]
  },
  {
   "cell_type": "code",
   "execution_count": 44,
   "metadata": {},
   "outputs": [],
   "source": [
    "companies_5000 = db.companies.find(\n",
    "    {'number_of_employees':{\"$gt\":5000}}\n",
    ").sort([(\"number_of_employees\",1)]).limit(20)"
   ]
  },
  {
   "cell_type": "code",
   "execution_count": 45,
   "metadata": {},
   "outputs": [],
   "source": [
    "companies_5000 = list(companies_5000)"
   ]
  },
  {
   "cell_type": "code",
   "execution_count": 46,
   "metadata": {},
   "outputs": [
    {
     "data": {
      "text/plain": [
       "20"
      ]
     },
     "execution_count": 46,
     "metadata": {},
     "output_type": "execute_result"
    }
   ],
   "source": [
    "len(list(companies_5000))"
   ]
  },
  {
   "cell_type": "markdown",
   "metadata": {},
   "source": [
    "### 3. All the companies founded between 2000 and 2005, both years included. Retrieve only the `name` and `founded_year` fields."
   ]
  },
  {
   "cell_type": "code",
   "execution_count": 12,
   "metadata": {},
   "outputs": [],
   "source": [
    "founded = db.companies.find(\n",
    "    {'founded_year':{\"$gte\":2000, \"$lte\":2005}},\n",
    "    {'name':1, 'founded_year':1}\n",
    ")"
   ]
  },
  {
   "cell_type": "code",
   "execution_count": 13,
   "metadata": {},
   "outputs": [],
   "source": [
    "founded = list(founded)"
   ]
  },
  {
   "cell_type": "code",
   "execution_count": 14,
   "metadata": {},
   "outputs": [
    {
     "data": {
      "text/plain": [
       "3734"
      ]
     },
     "execution_count": 14,
     "metadata": {},
     "output_type": "execute_result"
    }
   ],
   "source": [
    "len(founded)"
   ]
  },
  {
   "cell_type": "markdown",
   "metadata": {},
   "source": [
    "### 4. All the companies that had a Valuation Amount of more than 100.000.000 and have been founded before 2010. Retrieve only the `name` and `ipo` fields."
   ]
  },
  {
   "cell_type": "code",
   "execution_count": 15,
   "metadata": {},
   "outputs": [],
   "source": [
    "fil = {'$and':[\n",
    "    {'ipo.valuation_amount':{'$gt':100000000}},\n",
    "    {'founded_year':{'$lt':2010}}\n",
    "    ]}\n",
    "project = {'name':1,'ipo.valuation_amount':1}\n",
    "valuable_companies = db.companies.find(fil,project).sort([(\"ipo.valuation_amount\",1)])"
   ]
  },
  {
   "cell_type": "code",
   "execution_count": 16,
   "metadata": {},
   "outputs": [],
   "source": [
    "valuable_companies = list(valuable_companies)"
   ]
  },
  {
   "cell_type": "code",
   "execution_count": 17,
   "metadata": {},
   "outputs": [
    {
     "data": {
      "text/plain": [
       "[{'_id': ObjectId('52cdef7c4bab8bd67529823b'),\n",
       "  'name': 'Salesforce',\n",
       "  'ipo': {'valuation_amount': 110000000}},\n",
       " {'_id': ObjectId('52cdef7c4bab8bd6752987fe'),\n",
       "  'name': 'Geeknet',\n",
       "  'ipo': {'valuation_amount': 134000000}},\n",
       " {'_id': ObjectId('52cdef7c4bab8bd6752984e3'),\n",
       "  'name': 'QuinStreet',\n",
       "  'ipo': {'valuation_amount': 140000000}}]"
      ]
     },
     "execution_count": 17,
     "metadata": {},
     "output_type": "execute_result"
    }
   ],
   "source": [
    "valuable_companies[0:3]"
   ]
  },
  {
   "cell_type": "markdown",
   "metadata": {},
   "source": [
    "### 5. All the companies that have less than 1000 employees and have been founded before 2005. Order them by the number of employees and limit the search to 10 companies."
   ]
  },
  {
   "cell_type": "code",
   "execution_count": 18,
   "metadata": {},
   "outputs": [],
   "source": [
    "fil = {'number_of_employees':{'$lt':1000}, 'founded_year':{'$lt':2005}}\n",
    "result = db.companies.find(fil).limit(10)"
   ]
  },
  {
   "cell_type": "code",
   "execution_count": 19,
   "metadata": {},
   "outputs": [
    {
     "data": {
      "text/plain": [
       "10"
      ]
     },
     "execution_count": 19,
     "metadata": {},
     "output_type": "execute_result"
    }
   ],
   "source": [
    "result = list(result)\n",
    "len(result)"
   ]
  },
  {
   "cell_type": "markdown",
   "metadata": {},
   "source": [
    "### 6. All the companies that don't include the `partners` field."
   ]
  },
  {
   "cell_type": "code",
   "execution_count": 20,
   "metadata": {},
   "outputs": [
    {
     "data": {
      "text/plain": [
       "18801"
      ]
     },
     "execution_count": 20,
     "metadata": {},
     "output_type": "execute_result"
    }
   ],
   "source": [
    "result = db.companies.find({'partners':{'$exists':'false'}})\n",
    "result = list(result)\n",
    "len(result)"
   ]
  },
  {
   "cell_type": "markdown",
   "metadata": {},
   "source": [
    "### 7. All the companies that have a null type of value on the `category_code` field."
   ]
  },
  {
   "cell_type": "code",
   "execution_count": 21,
   "metadata": {},
   "outputs": [
    {
     "data": {
      "text/plain": [
       "2751"
      ]
     },
     "execution_count": 21,
     "metadata": {},
     "output_type": "execute_result"
    }
   ],
   "source": [
    "result = db.companies.find({'category_code':{'$type':10}})\n",
    "result = list(result)\n",
    "len(result)"
   ]
  },
  {
   "cell_type": "markdown",
   "metadata": {},
   "source": [
    "### 8. All the companies that have at least 100 employees but less than 1000. Retrieve only the `name` and `number of employees` fields."
   ]
  },
  {
   "cell_type": "code",
   "execution_count": 22,
   "metadata": {},
   "outputs": [
    {
     "data": {
      "text/plain": [
       "917"
      ]
     },
     "execution_count": 22,
     "metadata": {},
     "output_type": "execute_result"
    }
   ],
   "source": [
    "result = db.companies.find(\n",
    "    {'number_of_employees':{'$gte':100, '$lt':1000}},\n",
    "    {'name':1, 'number_of_employees':1}\n",
    ")\n",
    "result = list(result)\n",
    "len(result)"
   ]
  },
  {
   "cell_type": "markdown",
   "metadata": {},
   "source": [
    "### 9. Order all the companies by their IPO price in a descending order."
   ]
  },
  {
   "cell_type": "code",
   "execution_count": 23,
   "metadata": {},
   "outputs": [],
   "source": [
    "result = db.companies.find({}).sort([(\"ipo.valuation_amount\",-1)])\n",
    "result = list(result)"
   ]
  },
  {
   "cell_type": "code",
   "execution_count": 24,
   "metadata": {},
   "outputs": [
    {
     "data": {
      "text/plain": [
       "('GREE',\n",
       " {'valuation_amount': 108960000000,\n",
       "  'valuation_currency_code': 'JPY',\n",
       "  'pub_year': 2008,\n",
       "  'pub_month': 12,\n",
       "  'pub_day': 17,\n",
       "  'stock_symbol': '3632'})"
      ]
     },
     "execution_count": 24,
     "metadata": {},
     "output_type": "execute_result"
    }
   ],
   "source": [
    "result[0]['name'], result[0]['ipo']"
   ]
  },
  {
   "cell_type": "markdown",
   "metadata": {},
   "source": [
    "### 10. Retrieve the 10 companies with more employees, order by the `number of employees`"
   ]
  },
  {
   "cell_type": "code",
   "execution_count": 25,
   "metadata": {},
   "outputs": [
    {
     "data": {
      "text/plain": [
       "[{'name': 'Siemens'},\n",
       " {'name': 'IBM'},\n",
       " {'name': 'Toyota'},\n",
       " {'name': 'PayPal'},\n",
       " {'name': 'Nippon Telegraph and Telephone Corporation'},\n",
       " {'name': 'Samsung Electronics'},\n",
       " {'name': 'Accenture'},\n",
       " {'name': 'Tata Consultancy Services'},\n",
       " {'name': 'Flextronics International'},\n",
       " {'name': 'Safeway'}]"
      ]
     },
     "execution_count": 25,
     "metadata": {},
     "output_type": "execute_result"
    }
   ],
   "source": [
    "result = db.companies.find(\n",
    "    {},{'name':1, '_id':0}).sort([(\"number_of_employees\",-1)]).limit(10)\n",
    "result = list(result)\n",
    "result"
   ]
  },
  {
   "cell_type": "markdown",
   "metadata": {},
   "source": [
    "### 11. All the companies founded on the second semester of the year. Limit your search to 1000 companies."
   ]
  },
  {
   "cell_type": "code",
   "execution_count": 26,
   "metadata": {},
   "outputs": [
    {
     "data": {
      "text/plain": [
       "1000"
      ]
     },
     "execution_count": 26,
     "metadata": {},
     "output_type": "execute_result"
    }
   ],
   "source": [
    "result = db.companies.find({'founded_month':{'$gte':6}}).limit(1000)\n",
    "result = list(result)\n",
    "len(result)"
   ]
  },
  {
   "cell_type": "markdown",
   "metadata": {},
   "source": [
    "### 12. All the companies founded before 2000 that have an acquisition amount of more than 10.000.00"
   ]
  },
  {
   "cell_type": "code",
   "execution_count": 27,
   "metadata": {},
   "outputs": [
    {
     "data": {
      "text/plain": [
       "('Sprint Nextel',\n",
       " {'price_amount': 35000000000,\n",
       "  'price_currency_code': 'USD',\n",
       "  'term_code': None,\n",
       "  'source_url': 'http://www.theage.com.au/news/breaking/sprint-completes-nextel-acquisition/2005/08/15/1123957976577.html',\n",
       "  'source_description': 'Sprint completes Nextel acquisition',\n",
       "  'acquired_year': 2005,\n",
       "  'acquired_month': 8,\n",
       "  'acquired_day': 15,\n",
       "  'company': {'name': 'Nextel Communications', 'permalink': 'nextel'}})"
      ]
     },
     "execution_count": 27,
     "metadata": {},
     "output_type": "execute_result"
    }
   ],
   "source": [
    "fil = {'$and':[\n",
    "    {'acquisitions.price_amount':{'$gt':10000}},\n",
    "    {'founded_year':{'$lt':2000}}\n",
    "    ]}\n",
    "result = db.companies.find(fil).sort('acquisitions.price_amount',-1)\n",
    "result = list(result)\n",
    "result[0]['name'], result[0]['acquisitions'][0]"
   ]
  },
  {
   "cell_type": "markdown",
   "metadata": {},
   "source": [
    "### 13. All the companies that have been acquired after 2010, order by the acquisition amount, and retrieve only their `name` and `acquisition` field."
   ]
  },
  {
   "cell_type": "code",
   "execution_count": 33,
   "metadata": {},
   "outputs": [
    {
     "data": {
      "text/plain": [
       "{'_id': ObjectId('52cdef7c4bab8bd6752986da'),\n",
       " 'name': 'Sprint Nextel',\n",
       " 'acquisitions': [{'price_amount': 35000000000,\n",
       "   'price_currency_code': 'USD',\n",
       "   'term_code': None,\n",
       "   'source_url': 'http://www.theage.com.au/news/breaking/sprint-completes-nextel-acquisition/2005/08/15/1123957976577.html',\n",
       "   'source_description': 'Sprint completes Nextel acquisition',\n",
       "   'acquired_year': 2005,\n",
       "   'acquired_month': 8,\n",
       "   'acquired_day': 15,\n",
       "   'company': {'name': 'Nextel Communications', 'permalink': 'nextel'}},\n",
       "  {'price_amount': 483000000,\n",
       "   'price_currency_code': 'USD',\n",
       "   'term_code': 'stock',\n",
       "   'source_url': 'http://www.foxbusiness.com/story/markets/industries/telecom/sprint-acquire-virgin-mobile--million/',\n",
       "   'source_description': 'Sprint to Acquire Virgin Mobile for $483M',\n",
       "   'acquired_year': 2009,\n",
       "   'acquired_month': 7,\n",
       "   'acquired_day': 28,\n",
       "   'company': {'name': 'Virgin Mobile USA', 'permalink': 'virgin-mobile'}},\n",
       "  {'price_amount': 831000000,\n",
       "   'price_currency_code': 'USD',\n",
       "   'term_code': 'cash',\n",
       "   'source_url': 'http://allthingsd.com/20091019/sprint-nextel-silences-ipcs/',\n",
       "   'source_description': 'Sprint Nextel Silences iPCS',\n",
       "   'acquired_year': 2009,\n",
       "   'acquired_month': 10,\n",
       "   'acquired_day': 19,\n",
       "   'company': {'name': 'iPCS', 'permalink': 'ipcs'}},\n",
       "  {'price_amount': None,\n",
       "   'price_currency_code': 'USD',\n",
       "   'term_code': None,\n",
       "   'source_url': 'http://venturebeat.com/2012/12/17/sprint-clearwire-deal-2-2b/',\n",
       "   'source_description': 'Sprint finalizes Clearwire buyout for $2.2B',\n",
       "   'acquired_year': 2012,\n",
       "   'acquired_month': 12,\n",
       "   'acquired_day': 17,\n",
       "   'company': {'name': 'Clearwire', 'permalink': 'clearwire'}},\n",
       "  {'price_amount': None,\n",
       "   'price_currency_code': 'USD',\n",
       "   'term_code': None,\n",
       "   'source_url': 'http://www.nasdaq.com/article/sprint-nextel-buys-handmark-and-its-subsidiary-onelouder-apps---quick-facts-20130520-00621',\n",
       "   'source_description': 'Sprint Nextel Buys Handmark And Its Subsidiary OneLouder Apps - Quick Facts',\n",
       "   'acquired_year': 2013,\n",
       "   'acquired_month': 5,\n",
       "   'acquired_day': 20,\n",
       "   'company': {'name': 'Handmark', 'permalink': 'handmark'}},\n",
       "  {'price_amount': None,\n",
       "   'price_currency_code': 'USD',\n",
       "   'term_code': None,\n",
       "   'source_url': 'http://www.nasdaq.com/article/sprint-nextel-buys-handmark-and-its-subsidiary-onelouder-apps---quick-facts-20130520-00621',\n",
       "   'source_description': 'Sprint Nextel Buys Handmark And Its Subsidiary OneLouder Apps - Quick Facts',\n",
       "   'acquired_year': 2013,\n",
       "   'acquired_month': 5,\n",
       "   'acquired_day': 20,\n",
       "   'company': {'name': 'OneLouder', 'permalink': 'onelouder'}}]}"
      ]
     },
     "execution_count": 33,
     "metadata": {},
     "output_type": "execute_result"
    }
   ],
   "source": [
    "result = db.companies.find(\n",
    "    {'acquisitions.acquired_year':{'$gt':2010}},\n",
    "    {'name':1, 'acquisitions':1}).sort('acquisitions.price_amount',-1)\n",
    "result = list(result)\n",
    "result[0]"
   ]
  },
  {
   "cell_type": "markdown",
   "metadata": {},
   "source": [
    "### 14. Order the companies by their `founded year`, retrieving only their `name` and `founded year`."
   ]
  },
  {
   "cell_type": "code",
   "execution_count": 39,
   "metadata": {},
   "outputs": [
    {
     "data": {
      "text/plain": [
       "[{'name': 'Fixya', 'founded_year': 2013},\n",
       " {'name': 'Wamba', 'founded_year': 2013},\n",
       " {'name': 'Advaliant', 'founded_year': 2013},\n",
       " {'name': 'Fluc', 'founded_year': 2013},\n",
       " {'name': 'iBazar', 'founded_year': 2013}]"
      ]
     },
     "execution_count": 39,
     "metadata": {},
     "output_type": "execute_result"
    }
   ],
   "source": [
    "result = db.companies.find({},\n",
    "    {'name':1, 'founded_year':1, '_id':0}).sort('founded_year',-1)\n",
    "result = list(result)\n",
    "result[:5]"
   ]
  },
  {
   "cell_type": "markdown",
   "metadata": {},
   "source": [
    "### 15. All the companies that have been founded on the first seven days of the month, including the seventh. Sort them by their `acquisition price` in a descending order. Limit the search to 10 documents."
   ]
  },
  {
   "cell_type": "code",
   "execution_count": 41,
   "metadata": {},
   "outputs": [
    {
     "data": {
      "text/plain": [
       "42"
      ]
     },
     "execution_count": 41,
     "metadata": {},
     "output_type": "execute_result"
    }
   ],
   "source": [
    "result = db.companies.find(\n",
    "    {'acquisitions.acquired_day':{'$lte':7}}).sort('acquisitions.price_amount',-1)\n",
    "result = list(result)\n",
    "len(result)"
   ]
  },
  {
   "cell_type": "markdown",
   "metadata": {},
   "source": [
    "### 16. All the companies on the 'web' `category` that have more than 4000 employees. Sort them by the amount of employees in ascending order."
   ]
  },
  {
   "cell_type": "code",
   "execution_count": 51,
   "metadata": {},
   "outputs": [
    {
     "data": {
      "text/plain": [
       "9"
      ]
     },
     "execution_count": 51,
     "metadata": {},
     "output_type": "execute_result"
    }
   ],
   "source": [
    "fil = {'$and':[\n",
    "    {'category_code':'web'},\n",
    "    {'number_of_employees':{'$gt':4000}}\n",
    "    ]}\n",
    "result = db.companies.find(fil).sort('number_of_employees',1)\n",
    "result = list(result)\n",
    "len(result)"
   ]
  },
  {
   "cell_type": "markdown",
   "metadata": {},
   "source": [
    "### 17. All the companies whose acquisition amount is more than 10.000.000, and currency is 'EUR'."
   ]
  },
  {
   "cell_type": "code",
   "execution_count": 53,
   "metadata": {},
   "outputs": [
    {
     "data": {
      "text/plain": [
       "17"
      ]
     },
     "execution_count": 53,
     "metadata": {},
     "output_type": "execute_result"
    }
   ],
   "source": [
    "fil = {'$and':[\n",
    "    {'acquisitions.price_amount':{'$gt':10000000}},\n",
    "    {'acquisitions.price_currency_code':'EUR'}\n",
    "    ]}\n",
    "result = db.companies.find(fil)\n",
    "result = list(result)\n",
    "len(result)"
   ]
  },
  {
   "cell_type": "markdown",
   "metadata": {},
   "source": [
    "### 18. All the companies that have been acquired on the first trimester of the year. Limit the search to 10 companies, and retrieve only their `name` and `acquisition` fields."
   ]
  },
  {
   "cell_type": "code",
   "execution_count": 62,
   "metadata": {},
   "outputs": [
    {
     "data": {
      "text/plain": [
       "10"
      ]
     },
     "execution_count": 62,
     "metadata": {},
     "output_type": "execute_result"
    }
   ],
   "source": [
    "result = db.companies.find(\n",
    "    {'acquisitions.acquired_month':{'$lt':3}},\n",
    "    {'name':1, 'acquisitions':1}).limit(10)\n",
    "result = list(result)\n",
    "len(result)"
   ]
  },
  {
   "cell_type": "markdown",
   "metadata": {},
   "source": [
    "# Bonus\n",
    "### 19. All the companies that have been founded between 2000 and 2010, but have not been acquired before 2011."
   ]
  },
  {
   "cell_type": "code",
   "execution_count": null,
   "metadata": {},
   "outputs": [],
   "source": []
  },
  {
   "cell_type": "markdown",
   "metadata": {},
   "source": [
    "### 20. All the companies that have been 'deadpooled' after the third year."
   ]
  },
  {
   "cell_type": "code",
   "execution_count": null,
   "metadata": {},
   "outputs": [],
   "source": [
    "# Your Code"
   ]
  }
 ],
 "metadata": {
  "kernelspec": {
   "display_name": "Python 3",
   "language": "python",
   "name": "python3"
  },
  "language_info": {
   "codemirror_mode": {
    "name": "ipython",
    "version": 3
   },
   "file_extension": ".py",
   "mimetype": "text/x-python",
   "name": "python",
   "nbconvert_exporter": "python",
   "pygments_lexer": "ipython3",
   "version": "3.8.3"
  }
 },
 "nbformat": 4,
 "nbformat_minor": 2
}
