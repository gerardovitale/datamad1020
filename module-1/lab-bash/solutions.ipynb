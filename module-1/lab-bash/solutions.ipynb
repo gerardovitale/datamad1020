{
 "cells": [
  {
   "cell_type": "markdown",
   "metadata": {},
   "source": [
    "#### 1. Imprime en consola Hello World."
   ]
  },
  {
   "cell_type": "markdown",
   "metadata": {},
   "source": [
    "Your solution here:\n",
    "```bash\n",
    "echo \"Hello World\"\n",
    "```"
   ]
  },
  {
   "cell_type": "markdown",
   "metadata": {},
   "source": [
    "#### 2. Crea un directorio nuevo llamado new_dir."
   ]
  },
  {
   "cell_type": "markdown",
   "metadata": {},
   "source": [
    "Your solution here:\n",
    "```bash\n",
    "mkdir new_dir\n",
    "```"
   ]
  },
  {
   "cell_type": "markdown",
   "metadata": {},
   "source": [
    "#### 3. Elimina ese directorio."
   ]
  },
  {
   "cell_type": "markdown",
   "metadata": {},
   "source": [
    "Your solution here:\n",
    "```bash\n",
    "rm -r new_dir\n",
    "```"
   ]
  },
  {
   "cell_type": "markdown",
   "metadata": {},
   "source": [
    "#### 4. Copia el archivo sed.txt dentro de la carpeta lorem a la carpeta lorem-copy.\n",
    "\n",
    "```bash\n",
    "cp lorem-copy/sed.txt /Users/gerardovitaleerrico/documents/datamad1020/module-1/lab-bash/lorem-copy\n",
    "```"
   ]
  },
  {
   "cell_type": "markdown",
   "metadata": {},
   "source": [
    "#### 5. Copia los otros dos archivos de la carpeta lorem a la carpeta lorem-copy en una sola línea mediante ;\n",
    "```bash\n",
    "cp lorem/at.txt lorem/lorem.txt ../lab-bash/lorem-copy\n",
    "```\n"
   ]
  },
  {
   "cell_type": "markdown",
   "metadata": {},
   "source": [
    "#### 6. Muestra el contenido del archivo sed.txt dentro de la carpeta lorem.\n",
    "\n",
    "```bash\n",
    "cat lorem/sed.txt\n",
    "```"
   ]
  },
  {
   "cell_type": "markdown",
   "metadata": {},
   "source": [
    "#### 7. Muestra el contenido de los archivos at.txt y lorem.txt dentro de la carpeta lorem.\n",
    "\n",
    "```bash\n",
    "cat lorem/lorem.txt lorem/at.txt\n",
    "```"
   ]
  },
  {
   "cell_type": "markdown",
   "metadata": {},
   "source": [
    "#### 8. Visualiza las primeras 3 líneas del archivo sed.txt dentro de la carpeta lorem-copy\n",
    "\n",
    "```bash\n",
    "head -3 lorem-copy/sed.txt\n",
    "```"
   ]
  },
  {
   "cell_type": "markdown",
   "metadata": {},
   "source": [
    "#### 9. Visualiza las ultimas 3 líneas del archivo sed.txt dentro de la carpeta lorem-copy\n",
    "```bash\n",
    "tail -3 lorem-copy/sed.txt \n",
    "```"
   ]
  },
  {
   "cell_type": "markdown",
   "metadata": {},
   "source": [
    "#### 10. Añade Homo homini lupus. al final de archivo sed.txt dentro de la carpeta lorem-copy.\n",
    "```bash\n",
    "echo \"\\nHomo homini lupus.\" >> lorem-copy/sed.txt \n",
    "```"
   ]
  },
  {
   "cell_type": "markdown",
   "metadata": {},
   "source": [
    "#### 11. Visualiza las últimas 3 líneas del archivo sed.txt dentro de la carpeta lorem-copy. Deberías ver ahora Homo homini lupus.\n",
    "```bash\n",
    "tail -3 lorem-copy/sed.txt\n",
    "```"
   ]
  },
  {
   "cell_type": "markdown",
   "metadata": {},
   "source": [
    "#### 12. Sustituye todas las apariciones de et por ET del archivo at.txt dentro de la carpeta lorem-copy. Deberás usar sed.\n",
    "```bash\n",
    "sed 's/et/ET/' lorem-copy/at.txt\n",
    "```"
   ]
  },
  {
   "cell_type": "markdown",
   "metadata": {},
   "source": [
    "#### 13. Encuentra al usuario activo en el sistema.\n",
    "```bash\n",
    "id -un\n",
    "```"
   ]
  },
  {
   "cell_type": "markdown",
   "metadata": {},
   "source": [
    "#### 14. Encuentra dónde estás en tu sistema de ficheros.\n",
    "```bash\n",
    "pwd\n",
    "```"
   ]
  },
  {
   "cell_type": "markdown",
   "metadata": {},
   "source": [
    "#### 15. Lista los archivos que terminan por .txt en la carpeta lorem.\n",
    "```bash\n",
    "find lorem -type f -name \\*.txt\n",
    "```"
   ]
  },
  {
   "cell_type": "markdown",
   "metadata": {},
   "source": [
    "#### 16. Cuenta el número de líneas que tiene el archivo sed.txt dentro de la carpeta lorem.\n",
    "```bash\n",
    "wc -l lorem/sed.txt \n",
    "```"
   ]
  },
  {
   "cell_type": "markdown",
   "metadata": {},
   "source": [
    "#### 17. Cuenta el número de archivos que empiezan por lorem que están en este directorio y en directorios internos.\n",
    "```bash\n",
    "find ../lab-bash -type f -name lorem.txt | wc -l\n",
    "```"
   ]
  },
  {
   "cell_type": "markdown",
   "metadata": {},
   "source": [
    "#### 18. Encuentra todas las apariciones de et en at.txt dentro de la carpeta lorem.\n",
    "```bash\n",
    "grep -R 'et' lorem/at.txt\n",
    "```"
   ]
  },
  {
   "cell_type": "markdown",
   "metadata": {},
   "source": [
    "#### 19. Cuenta el número de apariciones del string et en at.txt dentro de la carpeta lorem.\n",
    "```bash\n",
    "grep -c 'et' lorem/at.txt\n",
    "```"
   ]
  },
  {
   "cell_type": "markdown",
   "metadata": {},
   "source": [
    "#### 20. Cuenta el número de apariciones del string et en todos los archivos del directorio lorem-copy.\n",
    "```bash\n",
    "grep -c 'et' lorem-copy/*\n",
    "```"
   ]
  },
  {
   "cell_type": "markdown",
   "metadata": {},
   "source": [
    "# Bonus!!"
   ]
  },
  {
   "cell_type": "markdown",
   "metadata": {},
   "source": [
    "#### 1. Almacena en una variable name tu nombre.\n",
    "\n",
    "```bash\n",
    "name=gerardo\n",
    "```"
   ]
  },
  {
   "cell_type": "markdown",
   "metadata": {},
   "source": [
    "#### 2. Imprime esa variable.\n",
    "\n",
    "```bash\n",
    "echo $name\n",
    "```"
   ]
  },
  {
   "cell_type": "markdown",
   "metadata": {},
   "source": [
    "#### 3. Crea un directorio nuevo que se llame como el contenido de la variable name.\n",
    "\n",
    "```bash\n",
    "mkdir $name\n",
    "```"
   ]
  },
  {
   "cell_type": "markdown",
   "metadata": {},
   "source": [
    "#### 4. Elimina ese directorio.\n",
    "\n",
    "```bash\n",
    "rm -r $name\n",
    "```"
   ]
  },
  {
   "cell_type": "markdown",
   "metadata": {},
   "source": [
    "#### 5. Muestra los procesos de forma jerárquica que se están ejecutando en tu ordenador:\n",
    "- Usando el comando top o htop\n",
    "- Usando el comando ps con argumentos\n",
    "\n",
    "```bash\n",
    "top\n",
    "ps -ef\n",
    "```"
   ]
  },
  {
   "cell_type": "markdown",
   "metadata": {},
   "source": [
    "#### 6. Muestra información sobre tu procesador por pantalla\n",
    "\n",
    "```bash\n",
    "sysctl -n machdep.cpu.brand_string\n",
    "```"
   ]
  },
  {
   "cell_type": "markdown",
   "metadata": {},
   "source": [
    "#### 7. Crea 3 alias y haz que estén disponibles cada vez que inicias sesión\n",
    "\n",
    "```bash\n",
    "cd ~\n",
    "touch .bash_profile\n",
    "vi .bash_profile\n",
    "```\n",
    "alias c=\"clear\"\n",
    "alias p=\"pwd\"\n",
    "alias l=\"ls -lah\"\n",
    ":wq\n",
    "```bash\n",
    "source ~/.bash_profile\n",
    "```"
   ]
  },
  {
   "cell_type": "markdown",
   "metadata": {},
   "source": [
    "#### 8. Comprime las carpetas lorem y lorem-copy en un archivo llamado lorem-compressed.tar.gz\n",
    "\n",
    "```bash\n",
    "tar --create --gzip --file lorem-compressed.tar.gz lorem lorem-copy\n",
    "```"
   ]
  },
  {
   "cell_type": "markdown",
   "metadata": {},
   "source": [
    "#### 9. Descomprime el archivo lorem-compressed.tar.gz en la carpeta lorem-uncompressed\n",
    "\n",
    "```bash\n",
    "mkdir lorem-uncompressed\n",
    "tar xvf lorem-compressed.tar.gz -C lorem-uncompressed\n",
    "```"
   ]
  }
 ],
 "metadata": {
  "kernelspec": {
   "display_name": "Python 3",
   "language": "python",
   "name": "python3"
  },
  "language_info": {
   "codemirror_mode": {
    "name": "ipython",
    "version": 3
   },
   "file_extension": ".py",
   "mimetype": "text/x-python",
   "name": "python",
   "nbconvert_exporter": "python",
   "pygments_lexer": "ipython3",
   "version": "3.8.3"
  }
 },
 "nbformat": 4,
 "nbformat_minor": 4
}
