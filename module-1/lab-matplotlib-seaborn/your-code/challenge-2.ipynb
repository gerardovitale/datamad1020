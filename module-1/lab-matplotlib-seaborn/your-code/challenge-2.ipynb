{
 "cells": [
  {
   "cell_type": "markdown",
   "metadata": {},
   "source": [
    "# Challenge 2"
   ]
  },
  {
   "cell_type": "markdown",
   "metadata": {},
   "source": [
    "In this lab you will partner with another student to conduct **[pair programming](https://en.wikipedia.org/wiki/Pair_programming)**. In the next 60 minutes there will be 2 coding sessions of 30 minutes each. In each sessoin, one student will be the **driver** to write the code to solve the problem while the other student will be the **observer** to watch and review. There will be several iterations of your code because the observer will help the driver review the codes and make improvements until the 15 minute session ends. After the coding session ends, the driver and observer will switch roles."
   ]
  },
  {
   "cell_type": "markdown",
   "metadata": {},
   "source": [
    "#### Import all the libraries that are necessary"
   ]
  },
  {
   "cell_type": "code",
   "execution_count": 1,
   "metadata": {},
   "outputs": [],
   "source": [
    "# import libraries here\n",
    "import pandas as pd\n",
    "import numpy as np\n",
    "import matplotlib.pyplot as plt\n",
    "import seaborn as sns\n",
    "%matplotlib inline"
   ]
  },
  {
   "cell_type": "markdown",
   "metadata": {},
   "source": [
    "## Preparation\n",
    "\n",
    "#### Import the `Fitbit2.csv` file and name your dataset `fitbit`"
   ]
  },
  {
   "cell_type": "code",
   "execution_count": 2,
   "metadata": {},
   "outputs": [],
   "source": [
    "fitbit = pd.read_csv('Fitbit2.csv', index_col='Date', parse_dates=True)\n",
    "# fitbit.head()"
   ]
  },
  {
   "cell_type": "code",
   "execution_count": 3,
   "metadata": {},
   "outputs": [
    {
     "data": {
      "text/html": [
       "<div>\n",
       "<style scoped>\n",
       "    .dataframe tbody tr th:only-of-type {\n",
       "        vertical-align: middle;\n",
       "    }\n",
       "\n",
       "    .dataframe tbody tr th {\n",
       "        vertical-align: top;\n",
       "    }\n",
       "\n",
       "    .dataframe thead th {\n",
       "        text-align: right;\n",
       "    }\n",
       "</style>\n",
       "<table border=\"1\" class=\"dataframe\">\n",
       "  <thead>\n",
       "    <tr style=\"text-align: right;\">\n",
       "      <th></th>\n",
       "      <th>Calorie burned</th>\n",
       "      <th>Steps</th>\n",
       "      <th>Distance</th>\n",
       "      <th>Floors</th>\n",
       "      <th>Minutes Sedentary</th>\n",
       "      <th>Minutes Lightly Active</th>\n",
       "      <th>Minutes Fairly Active</th>\n",
       "      <th>Minutes Very Active</th>\n",
       "      <th>Activity Calories</th>\n",
       "      <th>MinutesOfSleep</th>\n",
       "      <th>...</th>\n",
       "      <th>NumberOfAwakings</th>\n",
       "      <th>LengthOfRestInMinutes</th>\n",
       "      <th>Distance_miles</th>\n",
       "      <th>Days_encoded</th>\n",
       "      <th>Work_or_Weekend</th>\n",
       "      <th>Hours Sleep</th>\n",
       "      <th>Sleep efficiency</th>\n",
       "      <th>Yesterday_sleep</th>\n",
       "      <th>Yesterday_sleep_efficiency</th>\n",
       "      <th>Months_encoded</th>\n",
       "    </tr>\n",
       "    <tr>\n",
       "      <th>Date</th>\n",
       "      <th></th>\n",
       "      <th></th>\n",
       "      <th></th>\n",
       "      <th></th>\n",
       "      <th></th>\n",
       "      <th></th>\n",
       "      <th></th>\n",
       "      <th></th>\n",
       "      <th></th>\n",
       "      <th></th>\n",
       "      <th></th>\n",
       "      <th></th>\n",
       "      <th></th>\n",
       "      <th></th>\n",
       "      <th></th>\n",
       "      <th></th>\n",
       "      <th></th>\n",
       "      <th></th>\n",
       "      <th></th>\n",
       "      <th></th>\n",
       "      <th></th>\n",
       "    </tr>\n",
       "  </thead>\n",
       "  <tbody>\n",
       "    <tr>\n",
       "      <th>2015-05-31</th>\n",
       "      <td>2783.375000</td>\n",
       "      <td>9012.208333</td>\n",
       "      <td>7.809167</td>\n",
       "      <td>10.333333</td>\n",
       "      <td>654.984333</td>\n",
       "      <td>206.625000</td>\n",
       "      <td>30.750000</td>\n",
       "      <td>43.875000</td>\n",
       "      <td>3893.500000</td>\n",
       "      <td>348.583333</td>\n",
       "      <td>...</td>\n",
       "      <td>22.291667</td>\n",
       "      <td>390.833333</td>\n",
       "      <td>4.852390</td>\n",
       "      <td>3.250000</td>\n",
       "      <td>0.666667</td>\n",
       "      <td>5.809722</td>\n",
       "      <td>85.508407</td>\n",
       "      <td>5.513889</td>\n",
       "      <td>81.922548</td>\n",
       "      <td>5.0</td>\n",
       "    </tr>\n",
       "    <tr>\n",
       "      <th>2015-06-30</th>\n",
       "      <td>2971.666667</td>\n",
       "      <td>12536.166667</td>\n",
       "      <td>10.881667</td>\n",
       "      <td>24.366667</td>\n",
       "      <td>655.641500</td>\n",
       "      <td>237.766667</td>\n",
       "      <td>33.600000</td>\n",
       "      <td>60.866667</td>\n",
       "      <td>1686.400000</td>\n",
       "      <td>354.800000</td>\n",
       "      <td>...</td>\n",
       "      <td>20.600000</td>\n",
       "      <td>399.266667</td>\n",
       "      <td>6.761552</td>\n",
       "      <td>2.833333</td>\n",
       "      <td>0.733333</td>\n",
       "      <td>5.913333</td>\n",
       "      <td>85.083234</td>\n",
       "      <td>5.939444</td>\n",
       "      <td>84.943985</td>\n",
       "      <td>6.0</td>\n",
       "    </tr>\n",
       "    <tr>\n",
       "      <th>2015-07-31</th>\n",
       "      <td>2699.935484</td>\n",
       "      <td>9193.322581</td>\n",
       "      <td>8.695484</td>\n",
       "      <td>16.000000</td>\n",
       "      <td>644.071323</td>\n",
       "      <td>240.967742</td>\n",
       "      <td>33.161290</td>\n",
       "      <td>37.419355</td>\n",
       "      <td>1734.967742</td>\n",
       "      <td>347.161290</td>\n",
       "      <td>...</td>\n",
       "      <td>15.645161</td>\n",
       "      <td>385.387097</td>\n",
       "      <td>5.403122</td>\n",
       "      <td>3.000000</td>\n",
       "      <td>0.741935</td>\n",
       "      <td>5.786022</td>\n",
       "      <td>86.959627</td>\n",
       "      <td>5.764516</td>\n",
       "      <td>87.054673</td>\n",
       "      <td>7.0</td>\n",
       "    </tr>\n",
       "    <tr>\n",
       "      <th>2015-08-31</th>\n",
       "      <td>2844.967742</td>\n",
       "      <td>11584.774194</td>\n",
       "      <td>9.059677</td>\n",
       "      <td>14.129032</td>\n",
       "      <td>497.499000</td>\n",
       "      <td>265.322581</td>\n",
       "      <td>25.903226</td>\n",
       "      <td>28.516129</td>\n",
       "      <td>1502.483871</td>\n",
       "      <td>333.387097</td>\n",
       "      <td>...</td>\n",
       "      <td>17.774194</td>\n",
       "      <td>368.903226</td>\n",
       "      <td>5.629421</td>\n",
       "      <td>3.064516</td>\n",
       "      <td>0.677419</td>\n",
       "      <td>5.556452</td>\n",
       "      <td>84.537428</td>\n",
       "      <td>5.568280</td>\n",
       "      <td>84.422750</td>\n",
       "      <td>8.0</td>\n",
       "    </tr>\n",
       "    <tr>\n",
       "      <th>2015-09-30</th>\n",
       "      <td>2908.000000</td>\n",
       "      <td>9191.333333</td>\n",
       "      <td>7.836333</td>\n",
       "      <td>12.266667</td>\n",
       "      <td>535.728967</td>\n",
       "      <td>233.233333</td>\n",
       "      <td>32.700000</td>\n",
       "      <td>29.033333</td>\n",
       "      <td>1862.033333</td>\n",
       "      <td>259.700000</td>\n",
       "      <td>...</td>\n",
       "      <td>14.966667</td>\n",
       "      <td>288.633333</td>\n",
       "      <td>4.869270</td>\n",
       "      <td>2.900000</td>\n",
       "      <td>0.733333</td>\n",
       "      <td>4.328333</td>\n",
       "      <td>65.660698</td>\n",
       "      <td>4.307778</td>\n",
       "      <td>65.604344</td>\n",
       "      <td>9.0</td>\n",
       "    </tr>\n",
       "  </tbody>\n",
       "</table>\n",
       "<p>5 rows × 21 columns</p>\n",
       "</div>"
      ],
      "text/plain": [
       "            Calorie burned         Steps   Distance     Floors  \\\n",
       "Date                                                             \n",
       "2015-05-31     2783.375000   9012.208333   7.809167  10.333333   \n",
       "2015-06-30     2971.666667  12536.166667  10.881667  24.366667   \n",
       "2015-07-31     2699.935484   9193.322581   8.695484  16.000000   \n",
       "2015-08-31     2844.967742  11584.774194   9.059677  14.129032   \n",
       "2015-09-30     2908.000000   9191.333333   7.836333  12.266667   \n",
       "\n",
       "            Minutes Sedentary  Minutes Lightly Active  Minutes Fairly Active  \\\n",
       "Date                                                                           \n",
       "2015-05-31         654.984333              206.625000              30.750000   \n",
       "2015-06-30         655.641500              237.766667              33.600000   \n",
       "2015-07-31         644.071323              240.967742              33.161290   \n",
       "2015-08-31         497.499000              265.322581              25.903226   \n",
       "2015-09-30         535.728967              233.233333              32.700000   \n",
       "\n",
       "            Minutes Very Active  Activity Calories  MinutesOfSleep  ...  \\\n",
       "Date                                                                ...   \n",
       "2015-05-31            43.875000        3893.500000      348.583333  ...   \n",
       "2015-06-30            60.866667        1686.400000      354.800000  ...   \n",
       "2015-07-31            37.419355        1734.967742      347.161290  ...   \n",
       "2015-08-31            28.516129        1502.483871      333.387097  ...   \n",
       "2015-09-30            29.033333        1862.033333      259.700000  ...   \n",
       "\n",
       "            NumberOfAwakings  LengthOfRestInMinutes  Distance_miles  \\\n",
       "Date                                                                  \n",
       "2015-05-31         22.291667             390.833333        4.852390   \n",
       "2015-06-30         20.600000             399.266667        6.761552   \n",
       "2015-07-31         15.645161             385.387097        5.403122   \n",
       "2015-08-31         17.774194             368.903226        5.629421   \n",
       "2015-09-30         14.966667             288.633333        4.869270   \n",
       "\n",
       "            Days_encoded  Work_or_Weekend  Hours Sleep  Sleep efficiency  \\\n",
       "Date                                                                       \n",
       "2015-05-31      3.250000         0.666667     5.809722         85.508407   \n",
       "2015-06-30      2.833333         0.733333     5.913333         85.083234   \n",
       "2015-07-31      3.000000         0.741935     5.786022         86.959627   \n",
       "2015-08-31      3.064516         0.677419     5.556452         84.537428   \n",
       "2015-09-30      2.900000         0.733333     4.328333         65.660698   \n",
       "\n",
       "            Yesterday_sleep  Yesterday_sleep_efficiency  Months_encoded  \n",
       "Date                                                                     \n",
       "2015-05-31         5.513889                   81.922548             5.0  \n",
       "2015-06-30         5.939444                   84.943985             6.0  \n",
       "2015-07-31         5.764516                   87.054673             7.0  \n",
       "2015-08-31         5.568280                   84.422750             8.0  \n",
       "2015-09-30         4.307778                   65.604344             9.0  \n",
       "\n",
       "[5 rows x 21 columns]"
      ]
     },
     "execution_count": 3,
     "metadata": {},
     "output_type": "execute_result"
    }
   ],
   "source": [
    "fitbit_idate = fitbit.resample('M').mean()\n",
    "fitbit_idate.head()"
   ]
  },
  {
   "cell_type": "markdown",
   "metadata": {},
   "source": [
    "## Coding Session I - 30 minutes\n",
    "\n",
    "From the Fitbit data, we want to visually understand: \n",
    "\n",
    "1. **How the average number of steps change by month. Use the appropriate visualization to show the median steps by month?**\n",
    "1. **Is Fitbitter more active on weekend or workdays?**\n",
    "\n",
    "##### All plots must be in the same jupyter notebook cell.\n",
    "\n",
    "Hints:\n",
    "\n",
    "- Use `Months_encoded` and `Week_or Weekend` columns\n",
    "- Use `matplolib.pyplot` object oriented API\n",
    "- Set your size figure to `12,4`\n",
    "- Explore `plt.sca`\n",
    "- Explore `plt.xticks`\n",
    "- Save your figures"
   ]
  },
  {
   "cell_type": "code",
   "execution_count": 4,
   "metadata": {},
   "outputs": [
    {
     "data": {
      "image/png": "[encoded data removed]",
      "text/plain": [
       "<Figure size 864x288 with 1 Axes>"
      ]
     },
     "metadata": {
      "needs_background": "light"
     },
     "output_type": "display_data"
    },
    {
     "data": {
      "text/plain": [
       "<Figure size 432x288 with 0 Axes>"
      ]
     },
     "metadata": {},
     "output_type": "display_data"
    }
   ],
   "source": [
    "import matplotlib.dates as dates\n",
    "\n",
    "fig = plt.figure(figsize=(12,4))\n",
    "ax = plt.subplot()\n",
    "plt.bar(fitbit_idate.index, fitbit_idate['Steps'], width=(10), align='center')\n",
    "plt.xlabel('Months')\n",
    "plt.xticks(fitbit_idate.index)\n",
    "date_form = dates.DateFormatter(\"%m\")\n",
    "ax.xaxis.set_major_formatter(date_form)\n",
    "plt.ylabel('Steps by month')\n",
    "plt.show()\n",
    "plt.savefig('fitbit-steps-per-months.png')"
   ]
  },
  {
   "cell_type": "markdown",
   "metadata": {},
   "source": [
    "## Coding Session II - 30 minutes\n",
    "\n",
    "**Write a loop to plot 3 scatter plots of the following features:**\n",
    "\n",
    "1. **`Minutes Lightly Active`  vs `Steps`**\n",
    "1. **`Minutes Very Active` vs `Steps`**\n",
    "1. **`Minutes Sedentary` vs `Steps`**"
   ]
  },
  {
   "cell_type": "code",
   "execution_count": 5,
   "metadata": {},
   "outputs": [
    {
     "data": {
      "image/png": "[encoded data removed]",
      "text/plain": [
       "<Figure size 864x288 with 1 Axes>"
      ]
     },
     "metadata": {
      "needs_background": "light"
     },
     "output_type": "display_data"
    },
    {
     "data": {
      "text/plain": [
       "<Figure size 432x288 with 0 Axes>"
      ]
     },
     "metadata": {},
     "output_type": "display_data"
    }
   ],
   "source": [
    "fig = plt.figure(figsize=(12,4))\n",
    "ax = plt.subplot()\n",
    "to_plot = ['Minutes Sedentary', 'Minutes Lightly Active', 'Minutes Very Active']\n",
    "for k in to_plot:\n",
    "    plt.scatter(fitbit[k] , fitbit['Steps'], linewidths=.25)\n",
    "plt.xlim(0, fitbit['Minutes Lightly Active'].max())\n",
    "plt.ylim(0, fitbit['Steps'].max())\n",
    "plt.xlabel('Steps')\n",
    "plt.ylabel('Minutes Lightly Active')\n",
    "plt.show()\n",
    "plt.savefig('activeness-vs-steps.png')"
   ]
  },
  {
   "cell_type": "code",
   "execution_count": null,
   "metadata": {},
   "outputs": [],
   "source": []
  }
 ],
 "metadata": {
  "kernelspec": {
   "display_name": "Python 3",
   "language": "python",
   "name": "python3"
  },
  "language_info": {
   "codemirror_mode": {
    "name": "ipython",
    "version": 3
   },
   "file_extension": ".py",
   "mimetype": "text/x-python",
   "name": "python",
   "nbconvert_exporter": "python",
   "pygments_lexer": "ipython3",
   "version": "3.8.3"
  }
 },
 "nbformat": 4,
 "nbformat_minor": 4
}
